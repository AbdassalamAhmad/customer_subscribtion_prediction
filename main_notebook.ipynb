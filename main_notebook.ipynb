{
 "cells": [
  {
   "cell_type": "code",
   "execution_count": 1,
   "id": "90d1d27f",
   "metadata": {},
   "outputs": [],
   "source": [
    "import pandas as pd\n",
    "import numpy as np\n",
    "import matplotlib.pyplot as plt\n",
    "import seaborn as sns\n",
    "from sklearn.metrics import roc_auc_score\n",
    "from sklearn.tree import export_text\n",
    "from sklearn.metrics import f1_score\n",
    "import xgboost as xgb\n",
    "from sklearn.model_selection import GridSearchCV\n",
    "%matplotlib inline"
   ]
  },
  {
   "cell_type": "markdown",
   "id": "52d88b3b",
   "metadata": {},
   "source": [
    "# 1. Data Preparation and Cleaning"
   ]
  },
  {
   "cell_type": "markdown",
   "id": "2e4831e7",
   "metadata": {},
   "source": [
    "you can see information about the dataset from this link https://archive.ics.uci.edu/ml/datasets/Bank+Marketing <br>\n",
    "after downloading the bank.zip file and unzip it, you can see two files one for training & evaluating and one for testing"
   ]
  },
  {
   "cell_type": "code",
   "execution_count": 2,
   "id": "9b6ac2b4",
   "metadata": {},
   "outputs": [
    {
     "name": "stdout",
     "output_type": "stream",
     "text": [
      "\n",
      "Number of samples: 45211 and number of features: 17 \n",
      "\n"
     ]
    },
    {
     "data": {
      "text/html": [
       "<div>\n",
       "<style scoped>\n",
       "    .dataframe tbody tr th:only-of-type {\n",
       "        vertical-align: middle;\n",
       "    }\n",
       "\n",
       "    .dataframe tbody tr th {\n",
       "        vertical-align: top;\n",
       "    }\n",
       "\n",
       "    .dataframe thead th {\n",
       "        text-align: right;\n",
       "    }\n",
       "</style>\n",
       "<table border=\"1\" class=\"dataframe\">\n",
       "  <thead>\n",
       "    <tr style=\"text-align: right;\">\n",
       "      <th></th>\n",
       "      <th>age</th>\n",
       "      <th>job</th>\n",
       "      <th>marital</th>\n",
       "      <th>education</th>\n",
       "      <th>default</th>\n",
       "      <th>balance</th>\n",
       "      <th>housing</th>\n",
       "      <th>loan</th>\n",
       "      <th>contact</th>\n",
       "      <th>day</th>\n",
       "      <th>month</th>\n",
       "      <th>duration</th>\n",
       "      <th>campaign</th>\n",
       "      <th>pdays</th>\n",
       "      <th>previous</th>\n",
       "      <th>poutcome</th>\n",
       "      <th>y</th>\n",
       "    </tr>\n",
       "  </thead>\n",
       "  <tbody>\n",
       "    <tr>\n",
       "      <th>0</th>\n",
       "      <td>58</td>\n",
       "      <td>management</td>\n",
       "      <td>married</td>\n",
       "      <td>tertiary</td>\n",
       "      <td>no</td>\n",
       "      <td>2143</td>\n",
       "      <td>yes</td>\n",
       "      <td>no</td>\n",
       "      <td>unknown</td>\n",
       "      <td>5</td>\n",
       "      <td>may</td>\n",
       "      <td>261</td>\n",
       "      <td>1</td>\n",
       "      <td>-1</td>\n",
       "      <td>0</td>\n",
       "      <td>unknown</td>\n",
       "      <td>no</td>\n",
       "    </tr>\n",
       "    <tr>\n",
       "      <th>1</th>\n",
       "      <td>44</td>\n",
       "      <td>technician</td>\n",
       "      <td>single</td>\n",
       "      <td>secondary</td>\n",
       "      <td>no</td>\n",
       "      <td>29</td>\n",
       "      <td>yes</td>\n",
       "      <td>no</td>\n",
       "      <td>unknown</td>\n",
       "      <td>5</td>\n",
       "      <td>may</td>\n",
       "      <td>151</td>\n",
       "      <td>1</td>\n",
       "      <td>-1</td>\n",
       "      <td>0</td>\n",
       "      <td>unknown</td>\n",
       "      <td>no</td>\n",
       "    </tr>\n",
       "    <tr>\n",
       "      <th>2</th>\n",
       "      <td>33</td>\n",
       "      <td>entrepreneur</td>\n",
       "      <td>married</td>\n",
       "      <td>secondary</td>\n",
       "      <td>no</td>\n",
       "      <td>2</td>\n",
       "      <td>yes</td>\n",
       "      <td>yes</td>\n",
       "      <td>unknown</td>\n",
       "      <td>5</td>\n",
       "      <td>may</td>\n",
       "      <td>76</td>\n",
       "      <td>1</td>\n",
       "      <td>-1</td>\n",
       "      <td>0</td>\n",
       "      <td>unknown</td>\n",
       "      <td>no</td>\n",
       "    </tr>\n",
       "    <tr>\n",
       "      <th>3</th>\n",
       "      <td>47</td>\n",
       "      <td>blue-collar</td>\n",
       "      <td>married</td>\n",
       "      <td>unknown</td>\n",
       "      <td>no</td>\n",
       "      <td>1506</td>\n",
       "      <td>yes</td>\n",
       "      <td>no</td>\n",
       "      <td>unknown</td>\n",
       "      <td>5</td>\n",
       "      <td>may</td>\n",
       "      <td>92</td>\n",
       "      <td>1</td>\n",
       "      <td>-1</td>\n",
       "      <td>0</td>\n",
       "      <td>unknown</td>\n",
       "      <td>no</td>\n",
       "    </tr>\n",
       "    <tr>\n",
       "      <th>4</th>\n",
       "      <td>33</td>\n",
       "      <td>unknown</td>\n",
       "      <td>single</td>\n",
       "      <td>unknown</td>\n",
       "      <td>no</td>\n",
       "      <td>1</td>\n",
       "      <td>no</td>\n",
       "      <td>no</td>\n",
       "      <td>unknown</td>\n",
       "      <td>5</td>\n",
       "      <td>may</td>\n",
       "      <td>198</td>\n",
       "      <td>1</td>\n",
       "      <td>-1</td>\n",
       "      <td>0</td>\n",
       "      <td>unknown</td>\n",
       "      <td>no</td>\n",
       "    </tr>\n",
       "  </tbody>\n",
       "</table>\n",
       "</div>"
      ],
      "text/plain": [
       "   age           job  marital  education default  balance housing loan  \\\n",
       "0   58    management  married   tertiary      no     2143     yes   no   \n",
       "1   44    technician   single  secondary      no       29     yes   no   \n",
       "2   33  entrepreneur  married  secondary      no        2     yes  yes   \n",
       "3   47   blue-collar  married    unknown      no     1506     yes   no   \n",
       "4   33       unknown   single    unknown      no        1      no   no   \n",
       "\n",
       "   contact  day month  duration  campaign  pdays  previous poutcome   y  \n",
       "0  unknown    5   may       261         1     -1         0  unknown  no  \n",
       "1  unknown    5   may       151         1     -1         0  unknown  no  \n",
       "2  unknown    5   may        76         1     -1         0  unknown  no  \n",
       "3  unknown    5   may        92         1     -1         0  unknown  no  \n",
       "4  unknown    5   may       198         1     -1         0  unknown  no  "
      ]
     },
     "execution_count": 2,
     "metadata": {},
     "output_type": "execute_result"
    }
   ],
   "source": [
    "df = pd.read_csv('bank-full.csv',sep=';')\n",
    "print(\"\\nNumber of samples:\",df.shape[0],\"and number of features:\",df.shape[1],\"\\n\")\n",
    "# read the data and display the first 5 rows\n",
    "df.head()"
   ]
  },
  {
   "cell_type": "markdown",
   "id": "4426e858",
   "metadata": {},
   "source": [
    " ##### Information about our dataset:\n",
    "   1. age (numeric)\n",
    "   2. job : type of job (categorical: \"admin.\",\"unknown\",\"unemployed\",\"management\",\"housemaid\",\"entrepreneur\",\"student\",      \"blue-collar\",\"self-employed\",\"retired\",\"technician\",\"services\")\n",
    "   3. marital : marital status (categorical: \"married\",\"divorced\",\"single\"; note: \"divorced\" means divorced or widowed)\n",
    "   4. education (categorical: \"unknown\",\"secondary\",\"primary\",\"tertiary\")\n",
    "   5. default: has credit in default? (binary: \"yes\",\"no\")\n",
    "   6. balance: average yearly balance, in euros (numeric) \n",
    "   7. housing: has housing loan? (binary: \"yes\",\"no\")\n",
    "   8. loan: has personal loan? (binary: \"yes\",\"no\")\n",
    "      related with the last contact of the current campaign:\n",
    "   9. contact: contact communication type (categorical: \"unknown\",\"telephone\",\"cellular\")\n",
    "   10. day: last contact day of the month (numeric)\n",
    "   11. month: last contact month of year (categorical: \"jan\", \"feb\", \"mar\", ..., \"nov\", \"dec\")\n",
    "   12. duration: last contact duration, in seconds (numeric)<br>\n",
    "**other attributes:**\n",
    "   13. campaign: number of contacts performed during this campaign and for this client (numeric, includes last contact)\n",
    "   14. pdays: number of days that passed by after the client was last contacted from a previous campaign (numeric, -1 means client was not previously contacted)\n",
    "   15. previous: number of contacts performed before this campaign and for this client (numeric)\n",
    "   16. poutcome: outcome of the previous marketing campaign (categorical: \"unknown\",\"other\",\"failure\",\"success\")\n",
    "\n",
    "  **Output variable (desired target):**<br>\n",
    "   17. y - has the client subscribed a term deposit? (binary: \"yes\",\"no\")"
   ]
  },
  {
   "cell_type": "code",
   "execution_count": 3,
   "id": "bc952404",
   "metadata": {
    "scrolled": true
   },
   "outputs": [],
   "source": [
    "df.y = (df.y == 'yes').astype(int) #changing our output (y) from categorical to numerical"
   ]
  },
  {
   "cell_type": "code",
   "execution_count": 4,
   "id": "daecd13a",
   "metadata": {},
   "outputs": [
    {
     "data": {
      "text/plain": [
       "blue-collar      9732\n",
       "management       9458\n",
       "technician       7597\n",
       "admin.           5171\n",
       "services         4154\n",
       "retired          2264\n",
       "self-employed    1579\n",
       "entrepreneur     1487\n",
       "unemployed       1303\n",
       "housemaid        1240\n",
       "student           938\n",
       "unknown           288\n",
       "Name: job, dtype: int64"
      ]
     },
     "execution_count": 4,
     "metadata": {},
     "output_type": "execute_result"
    }
   ],
   "source": [
    "df['job'].value_counts()"
   ]
  },
  {
   "cell_type": "code",
   "execution_count": 5,
   "id": "7c683037",
   "metadata": {},
   "outputs": [],
   "source": [
    "df['job'].replace({'admin.': 'admin'}, inplace=True)#cleaning_data"
   ]
  },
  {
   "cell_type": "code",
   "execution_count": 6,
   "id": "dc518af9",
   "metadata": {},
   "outputs": [
    {
     "data": {
      "text/plain": [
       "blue-collar      9732\n",
       "management       9458\n",
       "technician       7597\n",
       "admin            5171\n",
       "services         4154\n",
       "retired          2264\n",
       "self-employed    1579\n",
       "entrepreneur     1487\n",
       "unemployed       1303\n",
       "housemaid        1240\n",
       "student           938\n",
       "unknown           288\n",
       "Name: job, dtype: int64"
      ]
     },
     "execution_count": 6,
     "metadata": {},
     "output_type": "execute_result"
    }
   ],
   "source": [
    "df['job'].value_counts()"
   ]
  },
  {
   "cell_type": "markdown",
   "id": "35192439",
   "metadata": {},
   "source": [
    "**Data is clean and ready to the next step Exploratory Data Analysis (EDA)**"
   ]
  },
  {
   "cell_type": "markdown",
   "id": "768d91a3",
   "metadata": {},
   "source": [
    "# 2.Exploratory Data Analysis (EDA)"
   ]
  },
  {
   "cell_type": "markdown",
   "id": "71f43a55",
   "metadata": {},
   "source": [
    "1. Explore our data more.\n",
    "2. Turning balance from long tail into normal distribution.\n",
    "3. Check for missing values.\n",
    "4. Looking at the target \"y\" distribution.\n",
    "5. Feauture important analysis."
   ]
  },
  {
   "cell_type": "markdown",
   "id": "fa8907e9",
   "metadata": {},
   "source": [
    "### 2.1 Explore our data more."
   ]
  },
  {
   "cell_type": "code",
   "execution_count": 7,
   "id": "1cd270df",
   "metadata": {},
   "outputs": [
    {
     "data": {
      "text/html": [
       "<div>\n",
       "<style scoped>\n",
       "    .dataframe tbody tr th:only-of-type {\n",
       "        vertical-align: middle;\n",
       "    }\n",
       "\n",
       "    .dataframe tbody tr th {\n",
       "        vertical-align: top;\n",
       "    }\n",
       "\n",
       "    .dataframe thead th {\n",
       "        text-align: right;\n",
       "    }\n",
       "</style>\n",
       "<table border=\"1\" class=\"dataframe\">\n",
       "  <thead>\n",
       "    <tr style=\"text-align: right;\">\n",
       "      <th></th>\n",
       "      <th>age</th>\n",
       "      <th>balance</th>\n",
       "      <th>day</th>\n",
       "      <th>duration</th>\n",
       "      <th>campaign</th>\n",
       "      <th>pdays</th>\n",
       "      <th>previous</th>\n",
       "      <th>y</th>\n",
       "    </tr>\n",
       "  </thead>\n",
       "  <tbody>\n",
       "    <tr>\n",
       "      <th>count</th>\n",
       "      <td>45211.000000</td>\n",
       "      <td>45211.000000</td>\n",
       "      <td>45211.000000</td>\n",
       "      <td>45211.000000</td>\n",
       "      <td>45211.000000</td>\n",
       "      <td>45211.000000</td>\n",
       "      <td>45211.000000</td>\n",
       "      <td>45211.000000</td>\n",
       "    </tr>\n",
       "    <tr>\n",
       "      <th>mean</th>\n",
       "      <td>40.936210</td>\n",
       "      <td>1362.272058</td>\n",
       "      <td>15.806419</td>\n",
       "      <td>258.163080</td>\n",
       "      <td>2.763841</td>\n",
       "      <td>40.197828</td>\n",
       "      <td>0.580323</td>\n",
       "      <td>0.116985</td>\n",
       "    </tr>\n",
       "    <tr>\n",
       "      <th>std</th>\n",
       "      <td>10.618762</td>\n",
       "      <td>3044.765829</td>\n",
       "      <td>8.322476</td>\n",
       "      <td>257.527812</td>\n",
       "      <td>3.098021</td>\n",
       "      <td>100.128746</td>\n",
       "      <td>2.303441</td>\n",
       "      <td>0.321406</td>\n",
       "    </tr>\n",
       "    <tr>\n",
       "      <th>min</th>\n",
       "      <td>18.000000</td>\n",
       "      <td>-8019.000000</td>\n",
       "      <td>1.000000</td>\n",
       "      <td>0.000000</td>\n",
       "      <td>1.000000</td>\n",
       "      <td>-1.000000</td>\n",
       "      <td>0.000000</td>\n",
       "      <td>0.000000</td>\n",
       "    </tr>\n",
       "    <tr>\n",
       "      <th>25%</th>\n",
       "      <td>33.000000</td>\n",
       "      <td>72.000000</td>\n",
       "      <td>8.000000</td>\n",
       "      <td>103.000000</td>\n",
       "      <td>1.000000</td>\n",
       "      <td>-1.000000</td>\n",
       "      <td>0.000000</td>\n",
       "      <td>0.000000</td>\n",
       "    </tr>\n",
       "    <tr>\n",
       "      <th>50%</th>\n",
       "      <td>39.000000</td>\n",
       "      <td>448.000000</td>\n",
       "      <td>16.000000</td>\n",
       "      <td>180.000000</td>\n",
       "      <td>2.000000</td>\n",
       "      <td>-1.000000</td>\n",
       "      <td>0.000000</td>\n",
       "      <td>0.000000</td>\n",
       "    </tr>\n",
       "    <tr>\n",
       "      <th>75%</th>\n",
       "      <td>48.000000</td>\n",
       "      <td>1428.000000</td>\n",
       "      <td>21.000000</td>\n",
       "      <td>319.000000</td>\n",
       "      <td>3.000000</td>\n",
       "      <td>-1.000000</td>\n",
       "      <td>0.000000</td>\n",
       "      <td>0.000000</td>\n",
       "    </tr>\n",
       "    <tr>\n",
       "      <th>max</th>\n",
       "      <td>95.000000</td>\n",
       "      <td>102127.000000</td>\n",
       "      <td>31.000000</td>\n",
       "      <td>4918.000000</td>\n",
       "      <td>63.000000</td>\n",
       "      <td>871.000000</td>\n",
       "      <td>275.000000</td>\n",
       "      <td>1.000000</td>\n",
       "    </tr>\n",
       "  </tbody>\n",
       "</table>\n",
       "</div>"
      ],
      "text/plain": [
       "                age        balance           day      duration      campaign  \\\n",
       "count  45211.000000   45211.000000  45211.000000  45211.000000  45211.000000   \n",
       "mean      40.936210    1362.272058     15.806419    258.163080      2.763841   \n",
       "std       10.618762    3044.765829      8.322476    257.527812      3.098021   \n",
       "min       18.000000   -8019.000000      1.000000      0.000000      1.000000   \n",
       "25%       33.000000      72.000000      8.000000    103.000000      1.000000   \n",
       "50%       39.000000     448.000000     16.000000    180.000000      2.000000   \n",
       "75%       48.000000    1428.000000     21.000000    319.000000      3.000000   \n",
       "max       95.000000  102127.000000     31.000000   4918.000000     63.000000   \n",
       "\n",
       "              pdays      previous             y  \n",
       "count  45211.000000  45211.000000  45211.000000  \n",
       "mean      40.197828      0.580323      0.116985  \n",
       "std      100.128746      2.303441      0.321406  \n",
       "min       -1.000000      0.000000      0.000000  \n",
       "25%       -1.000000      0.000000      0.000000  \n",
       "50%       -1.000000      0.000000      0.000000  \n",
       "75%       -1.000000      0.000000      0.000000  \n",
       "max      871.000000    275.000000      1.000000  "
      ]
     },
     "execution_count": 7,
     "metadata": {},
     "output_type": "execute_result"
    }
   ],
   "source": [
    "df.describe()"
   ]
  },
  {
   "cell_type": "code",
   "execution_count": 8,
   "id": "d1434857",
   "metadata": {},
   "outputs": [
    {
     "name": "stdout",
     "output_type": "stream",
     "text": [
      "age\n",
      "[58 44 33 47 35]\n",
      "77\n",
      "\n",
      "job\n",
      "['management' 'technician' 'entrepreneur' 'blue-collar' 'unknown']\n",
      "12\n",
      "\n",
      "marital\n",
      "['married' 'single' 'divorced']\n",
      "3\n",
      "\n",
      "education\n",
      "['tertiary' 'secondary' 'unknown' 'primary']\n",
      "4\n",
      "\n",
      "default\n",
      "['no' 'yes']\n",
      "2\n",
      "\n",
      "balance\n",
      "[2143   29    2 1506    1]\n",
      "7168\n",
      "\n",
      "housing\n",
      "['yes' 'no']\n",
      "2\n",
      "\n",
      "loan\n",
      "['no' 'yes']\n",
      "2\n",
      "\n",
      "contact\n",
      "['unknown' 'cellular' 'telephone']\n",
      "3\n",
      "\n",
      "day\n",
      "[5 6 7 8 9]\n",
      "31\n",
      "\n",
      "month\n",
      "['may' 'jun' 'jul' 'aug' 'oct']\n",
      "12\n",
      "\n",
      "duration\n",
      "[261 151  76  92 198]\n",
      "1573\n",
      "\n",
      "campaign\n",
      "[1 2 3 5 4]\n",
      "48\n",
      "\n",
      "pdays\n",
      "[ -1 151 166  91  86]\n",
      "559\n",
      "\n",
      "previous\n",
      "[0 3 1 4 2]\n",
      "41\n",
      "\n",
      "poutcome\n",
      "['unknown' 'failure' 'other' 'success']\n",
      "4\n",
      "\n",
      "y\n",
      "[0 1]\n",
      "2\n",
      "\n"
     ]
    }
   ],
   "source": [
    "for col in df.columns:\n",
    "    print(col)\n",
    "    print(df[col].unique()[:5])\n",
    "    print(df[col].nunique())\n",
    "    print()"
   ]
  },
  {
   "cell_type": "markdown",
   "id": "f243d29e",
   "metadata": {},
   "source": [
    "### 2.2 Turning balance from long tail into normal distribution."
   ]
  },
  {
   "cell_type": "markdown",
   "id": "453a7fa1",
   "metadata": {},
   "source": [
    "**The balance distribution isn't so good and it has a tail.**<br>\n",
    "**So we need to make it in normal distribution shape -because it's more relative numbers to the dataset- by using np.log1p().**"
   ]
  },
  {
   "cell_type": "code",
   "execution_count": 9,
   "id": "a5efa98b",
   "metadata": {
    "scrolled": false
   },
   "outputs": [
    {
     "data": {
      "text/plain": [
       "<AxesSubplot:xlabel='balance', ylabel='Count'>"
      ]
     },
     "execution_count": 9,
     "metadata": {},
     "output_type": "execute_result"
    },
    {
     "data": {
      "image/png": "[encoded data removed]",
      "text/plain": [
       "<Figure size 432x288 with 1 Axes>"
      ]
     },
     "metadata": {
      "needs_background": "light"
     },
     "output_type": "display_data"
    }
   ],
   "source": [
    "sns.histplot(df.balance, bins=50)"
   ]
  },
  {
   "cell_type": "code",
   "execution_count": 10,
   "id": "6e9bb26c",
   "metadata": {},
   "outputs": [],
   "source": [
    "#df[\"balance\"].replace({-1: 0}, inplace=True) \n",
    "#since this is balance in € yearly so it doesn't make a difference to add one € to (-1€) values,\n",
    "#to avoid error dividing by 0 in np.log1p()\n",
    "df['balance'] = df['balance'].mask(df['balance'] < 0, 0)"
   ]
  },
  {
   "cell_type": "code",
   "execution_count": 11,
   "id": "edbc09b9",
   "metadata": {},
   "outputs": [
    {
     "data": {
      "text/plain": [
       "<AxesSubplot:xlabel='balance', ylabel='Count'>"
      ]
     },
     "execution_count": 11,
     "metadata": {},
     "output_type": "execute_result"
    },
    {
     "data": {
      "image/png": "[encoded data removed]",
      "text/plain": [
       "<Figure size 432x288 with 1 Axes>"
      ]
     },
     "metadata": {
      "needs_background": "light"
     },
     "output_type": "display_data"
    }
   ],
   "source": [
    "balance_logs = np.log1p(df.balance)\n",
    "sns.histplot(balance_logs, bins=50)"
   ]
  },
  {
   "cell_type": "code",
   "execution_count": 12,
   "id": "bf00b2bf",
   "metadata": {
    "scrolled": false
   },
   "outputs": [
    {
     "data": {
      "text/html": [
       "<div>\n",
       "<style scoped>\n",
       "    .dataframe tbody tr th:only-of-type {\n",
       "        vertical-align: middle;\n",
       "    }\n",
       "\n",
       "    .dataframe tbody tr th {\n",
       "        vertical-align: top;\n",
       "    }\n",
       "\n",
       "    .dataframe thead th {\n",
       "        text-align: right;\n",
       "    }\n",
       "</style>\n",
       "<table border=\"1\" class=\"dataframe\">\n",
       "  <thead>\n",
       "    <tr style=\"text-align: right;\">\n",
       "      <th></th>\n",
       "      <th>age</th>\n",
       "      <th>job</th>\n",
       "      <th>marital</th>\n",
       "      <th>education</th>\n",
       "      <th>default</th>\n",
       "      <th>balance</th>\n",
       "      <th>housing</th>\n",
       "      <th>loan</th>\n",
       "      <th>contact</th>\n",
       "      <th>day</th>\n",
       "      <th>month</th>\n",
       "      <th>duration</th>\n",
       "      <th>campaign</th>\n",
       "      <th>pdays</th>\n",
       "      <th>previous</th>\n",
       "      <th>poutcome</th>\n",
       "      <th>y</th>\n",
       "      <th>balance_logs</th>\n",
       "    </tr>\n",
       "  </thead>\n",
       "  <tbody>\n",
       "    <tr>\n",
       "      <th>0</th>\n",
       "      <td>58</td>\n",
       "      <td>management</td>\n",
       "      <td>married</td>\n",
       "      <td>tertiary</td>\n",
       "      <td>no</td>\n",
       "      <td>2143</td>\n",
       "      <td>yes</td>\n",
       "      <td>no</td>\n",
       "      <td>unknown</td>\n",
       "      <td>5</td>\n",
       "      <td>may</td>\n",
       "      <td>261</td>\n",
       "      <td>1</td>\n",
       "      <td>-1</td>\n",
       "      <td>0</td>\n",
       "      <td>unknown</td>\n",
       "      <td>0</td>\n",
       "      <td>7.670429</td>\n",
       "    </tr>\n",
       "    <tr>\n",
       "      <th>1</th>\n",
       "      <td>44</td>\n",
       "      <td>technician</td>\n",
       "      <td>single</td>\n",
       "      <td>secondary</td>\n",
       "      <td>no</td>\n",
       "      <td>29</td>\n",
       "      <td>yes</td>\n",
       "      <td>no</td>\n",
       "      <td>unknown</td>\n",
       "      <td>5</td>\n",
       "      <td>may</td>\n",
       "      <td>151</td>\n",
       "      <td>1</td>\n",
       "      <td>-1</td>\n",
       "      <td>0</td>\n",
       "      <td>unknown</td>\n",
       "      <td>0</td>\n",
       "      <td>3.401197</td>\n",
       "    </tr>\n",
       "    <tr>\n",
       "      <th>2</th>\n",
       "      <td>33</td>\n",
       "      <td>entrepreneur</td>\n",
       "      <td>married</td>\n",
       "      <td>secondary</td>\n",
       "      <td>no</td>\n",
       "      <td>2</td>\n",
       "      <td>yes</td>\n",
       "      <td>yes</td>\n",
       "      <td>unknown</td>\n",
       "      <td>5</td>\n",
       "      <td>may</td>\n",
       "      <td>76</td>\n",
       "      <td>1</td>\n",
       "      <td>-1</td>\n",
       "      <td>0</td>\n",
       "      <td>unknown</td>\n",
       "      <td>0</td>\n",
       "      <td>1.098612</td>\n",
       "    </tr>\n",
       "    <tr>\n",
       "      <th>3</th>\n",
       "      <td>47</td>\n",
       "      <td>blue-collar</td>\n",
       "      <td>married</td>\n",
       "      <td>unknown</td>\n",
       "      <td>no</td>\n",
       "      <td>1506</td>\n",
       "      <td>yes</td>\n",
       "      <td>no</td>\n",
       "      <td>unknown</td>\n",
       "      <td>5</td>\n",
       "      <td>may</td>\n",
       "      <td>92</td>\n",
       "      <td>1</td>\n",
       "      <td>-1</td>\n",
       "      <td>0</td>\n",
       "      <td>unknown</td>\n",
       "      <td>0</td>\n",
       "      <td>7.317876</td>\n",
       "    </tr>\n",
       "    <tr>\n",
       "      <th>4</th>\n",
       "      <td>33</td>\n",
       "      <td>unknown</td>\n",
       "      <td>single</td>\n",
       "      <td>unknown</td>\n",
       "      <td>no</td>\n",
       "      <td>1</td>\n",
       "      <td>no</td>\n",
       "      <td>no</td>\n",
       "      <td>unknown</td>\n",
       "      <td>5</td>\n",
       "      <td>may</td>\n",
       "      <td>198</td>\n",
       "      <td>1</td>\n",
       "      <td>-1</td>\n",
       "      <td>0</td>\n",
       "      <td>unknown</td>\n",
       "      <td>0</td>\n",
       "      <td>0.693147</td>\n",
       "    </tr>\n",
       "  </tbody>\n",
       "</table>\n",
       "</div>"
      ],
      "text/plain": [
       "   age           job  marital  education default  balance housing loan  \\\n",
       "0   58    management  married   tertiary      no     2143     yes   no   \n",
       "1   44    technician   single  secondary      no       29     yes   no   \n",
       "2   33  entrepreneur  married  secondary      no        2     yes  yes   \n",
       "3   47   blue-collar  married    unknown      no     1506     yes   no   \n",
       "4   33       unknown   single    unknown      no        1      no   no   \n",
       "\n",
       "   contact  day month  duration  campaign  pdays  previous poutcome  y  \\\n",
       "0  unknown    5   may       261         1     -1         0  unknown  0   \n",
       "1  unknown    5   may       151         1     -1         0  unknown  0   \n",
       "2  unknown    5   may        76         1     -1         0  unknown  0   \n",
       "3  unknown    5   may        92         1     -1         0  unknown  0   \n",
       "4  unknown    5   may       198         1     -1         0  unknown  0   \n",
       "\n",
       "   balance_logs  \n",
       "0      7.670429  \n",
       "1      3.401197  \n",
       "2      1.098612  \n",
       "3      7.317876  \n",
       "4      0.693147  "
      ]
     },
     "execution_count": 12,
     "metadata": {},
     "output_type": "execute_result"
    }
   ],
   "source": [
    "df['balance_logs'] = balance_logs\n",
    "df=df.copy()\n",
    "df.head()"
   ]
  },
  {
   "cell_type": "code",
   "execution_count": 13,
   "id": "8deecda1",
   "metadata": {},
   "outputs": [
    {
     "data": {
      "text/html": [
       "<div>\n",
       "<style scoped>\n",
       "    .dataframe tbody tr th:only-of-type {\n",
       "        vertical-align: middle;\n",
       "    }\n",
       "\n",
       "    .dataframe tbody tr th {\n",
       "        vertical-align: top;\n",
       "    }\n",
       "\n",
       "    .dataframe thead th {\n",
       "        text-align: right;\n",
       "    }\n",
       "</style>\n",
       "<table border=\"1\" class=\"dataframe\">\n",
       "  <thead>\n",
       "    <tr style=\"text-align: right;\">\n",
       "      <th></th>\n",
       "      <th>age</th>\n",
       "      <th>job</th>\n",
       "      <th>marital</th>\n",
       "      <th>education</th>\n",
       "      <th>default</th>\n",
       "      <th>balance_logs</th>\n",
       "      <th>housing</th>\n",
       "      <th>loan</th>\n",
       "      <th>contact</th>\n",
       "      <th>day</th>\n",
       "      <th>month</th>\n",
       "      <th>duration</th>\n",
       "      <th>campaign</th>\n",
       "      <th>pdays</th>\n",
       "      <th>previous</th>\n",
       "      <th>poutcome</th>\n",
       "      <th>y</th>\n",
       "    </tr>\n",
       "  </thead>\n",
       "  <tbody>\n",
       "    <tr>\n",
       "      <th>0</th>\n",
       "      <td>58</td>\n",
       "      <td>management</td>\n",
       "      <td>married</td>\n",
       "      <td>tertiary</td>\n",
       "      <td>no</td>\n",
       "      <td>7.670429</td>\n",
       "      <td>yes</td>\n",
       "      <td>no</td>\n",
       "      <td>unknown</td>\n",
       "      <td>5</td>\n",
       "      <td>may</td>\n",
       "      <td>261</td>\n",
       "      <td>1</td>\n",
       "      <td>-1</td>\n",
       "      <td>0</td>\n",
       "      <td>unknown</td>\n",
       "      <td>0</td>\n",
       "    </tr>\n",
       "    <tr>\n",
       "      <th>1</th>\n",
       "      <td>44</td>\n",
       "      <td>technician</td>\n",
       "      <td>single</td>\n",
       "      <td>secondary</td>\n",
       "      <td>no</td>\n",
       "      <td>3.401197</td>\n",
       "      <td>yes</td>\n",
       "      <td>no</td>\n",
       "      <td>unknown</td>\n",
       "      <td>5</td>\n",
       "      <td>may</td>\n",
       "      <td>151</td>\n",
       "      <td>1</td>\n",
       "      <td>-1</td>\n",
       "      <td>0</td>\n",
       "      <td>unknown</td>\n",
       "      <td>0</td>\n",
       "    </tr>\n",
       "    <tr>\n",
       "      <th>2</th>\n",
       "      <td>33</td>\n",
       "      <td>entrepreneur</td>\n",
       "      <td>married</td>\n",
       "      <td>secondary</td>\n",
       "      <td>no</td>\n",
       "      <td>1.098612</td>\n",
       "      <td>yes</td>\n",
       "      <td>yes</td>\n",
       "      <td>unknown</td>\n",
       "      <td>5</td>\n",
       "      <td>may</td>\n",
       "      <td>76</td>\n",
       "      <td>1</td>\n",
       "      <td>-1</td>\n",
       "      <td>0</td>\n",
       "      <td>unknown</td>\n",
       "      <td>0</td>\n",
       "    </tr>\n",
       "    <tr>\n",
       "      <th>3</th>\n",
       "      <td>47</td>\n",
       "      <td>blue-collar</td>\n",
       "      <td>married</td>\n",
       "      <td>unknown</td>\n",
       "      <td>no</td>\n",
       "      <td>7.317876</td>\n",
       "      <td>yes</td>\n",
       "      <td>no</td>\n",
       "      <td>unknown</td>\n",
       "      <td>5</td>\n",
       "      <td>may</td>\n",
       "      <td>92</td>\n",
       "      <td>1</td>\n",
       "      <td>-1</td>\n",
       "      <td>0</td>\n",
       "      <td>unknown</td>\n",
       "      <td>0</td>\n",
       "    </tr>\n",
       "    <tr>\n",
       "      <th>4</th>\n",
       "      <td>33</td>\n",
       "      <td>unknown</td>\n",
       "      <td>single</td>\n",
       "      <td>unknown</td>\n",
       "      <td>no</td>\n",
       "      <td>0.693147</td>\n",
       "      <td>no</td>\n",
       "      <td>no</td>\n",
       "      <td>unknown</td>\n",
       "      <td>5</td>\n",
       "      <td>may</td>\n",
       "      <td>198</td>\n",
       "      <td>1</td>\n",
       "      <td>-1</td>\n",
       "      <td>0</td>\n",
       "      <td>unknown</td>\n",
       "      <td>0</td>\n",
       "    </tr>\n",
       "  </tbody>\n",
       "</table>\n",
       "</div>"
      ],
      "text/plain": [
       "   age           job  marital  education default  balance_logs housing loan  \\\n",
       "0   58    management  married   tertiary      no      7.670429     yes   no   \n",
       "1   44    technician   single  secondary      no      3.401197     yes   no   \n",
       "2   33  entrepreneur  married  secondary      no      1.098612     yes  yes   \n",
       "3   47   blue-collar  married    unknown      no      7.317876     yes   no   \n",
       "4   33       unknown   single    unknown      no      0.693147      no   no   \n",
       "\n",
       "   contact  day month  duration  campaign  pdays  previous poutcome  y  \n",
       "0  unknown    5   may       261         1     -1         0  unknown  0  \n",
       "1  unknown    5   may       151         1     -1         0  unknown  0  \n",
       "2  unknown    5   may        76         1     -1         0  unknown  0  \n",
       "3  unknown    5   may        92         1     -1         0  unknown  0  \n",
       "4  unknown    5   may       198         1     -1         0  unknown  0  "
      ]
     },
     "execution_count": 13,
     "metadata": {},
     "output_type": "execute_result"
    }
   ],
   "source": [
    "del df['balance']# we delete balance and replacing it with balance_logs because it will do better in the model.\n",
    "df=df[['age', 'job', 'marital', 'education', 'default', 'balance_logs', 'housing', 'loan',\n",
    "       'contact', 'day', 'month', 'duration', 'campaign', 'pdays', 'previous',\n",
    "       'poutcome', 'y']]# reordering DataFrame\n",
    "df.head()"
   ]
  },
  {
   "cell_type": "markdown",
   "id": "18d8a878",
   "metadata": {},
   "source": [
    "### 2.3 Check for missing values."
   ]
  },
  {
   "cell_type": "code",
   "execution_count": 14,
   "id": "57ca21d3",
   "metadata": {},
   "outputs": [
    {
     "data": {
      "text/plain": [
       "age             0\n",
       "job             0\n",
       "marital         0\n",
       "education       0\n",
       "default         0\n",
       "balance_logs    0\n",
       "housing         0\n",
       "loan            0\n",
       "contact         0\n",
       "day             0\n",
       "month           0\n",
       "duration        0\n",
       "campaign        0\n",
       "pdays           0\n",
       "previous        0\n",
       "poutcome        0\n",
       "y               0\n",
       "dtype: int64"
      ]
     },
     "execution_count": 14,
     "metadata": {},
     "output_type": "execute_result"
    }
   ],
   "source": [
    "df.isnull().sum()"
   ]
  },
  {
   "cell_type": "code",
   "execution_count": 15,
   "id": "8a815c27",
   "metadata": {},
   "outputs": [
    {
     "data": {
      "text/plain": [
       "age             0\n",
       "job             0\n",
       "marital         0\n",
       "education       0\n",
       "default         0\n",
       "balance_logs    0\n",
       "housing         0\n",
       "loan            0\n",
       "contact         0\n",
       "day             0\n",
       "month           0\n",
       "duration        0\n",
       "campaign        0\n",
       "pdays           0\n",
       "previous        0\n",
       "poutcome        0\n",
       "y               0\n",
       "dtype: int64"
      ]
     },
     "execution_count": 15,
     "metadata": {},
     "output_type": "execute_result"
    }
   ],
   "source": [
    "df.balance_logs = df.balance_logs.fillna(0)\n",
    "df.isnull().sum()"
   ]
  },
  {
   "cell_type": "markdown",
   "id": "e91e042b",
   "metadata": {},
   "source": [
    "### 2.4 Looking at the target \"y\" distribution."
   ]
  },
  {
   "cell_type": "code",
   "execution_count": 16,
   "id": "041e80d0",
   "metadata": {},
   "outputs": [
    {
     "data": {
      "text/plain": [
       "0    0.883015\n",
       "1    0.116985\n",
       "Name: y, dtype: float64"
      ]
     },
     "execution_count": 16,
     "metadata": {},
     "output_type": "execute_result"
    }
   ],
   "source": [
    "df.y.value_counts(normalize=True)"
   ]
  },
  {
   "cell_type": "markdown",
   "id": "bc980d24",
   "metadata": {},
   "source": [
    "**In this case we will use F1-score and AUC to validate our model instead of accuracy.**"
   ]
  },
  {
   "cell_type": "markdown",
   "id": "3c656942",
   "metadata": {},
   "source": [
    "### 2.5 Feautures importance analysis (mutual information & correlation)"
   ]
  },
  {
   "cell_type": "code",
   "execution_count": 17,
   "id": "c83b28bf",
   "metadata": {},
   "outputs": [
    {
     "data": {
      "text/plain": [
       "age               int64\n",
       "job              object\n",
       "marital          object\n",
       "education        object\n",
       "default          object\n",
       "balance_logs    float64\n",
       "housing          object\n",
       "loan             object\n",
       "contact          object\n",
       "day               int64\n",
       "month            object\n",
       "duration          int64\n",
       "campaign          int64\n",
       "pdays             int64\n",
       "previous          int64\n",
       "poutcome         object\n",
       "y                 int32\n",
       "dtype: object"
      ]
     },
     "execution_count": 17,
     "metadata": {},
     "output_type": "execute_result"
    }
   ],
   "source": [
    "df.dtypes"
   ]
  },
  {
   "cell_type": "code",
   "execution_count": 18,
   "id": "5ec9aaf2",
   "metadata": {},
   "outputs": [],
   "source": [
    "numerical = ['age', 'balance_logs', 'day', 'duration', 'campaign', 'pdays', 'previous']\n",
    "categorical  = ['job', 'marital', 'education', 'default',  'housing', 'loan',\n",
    "       'contact', 'month', 'poutcome']"
   ]
  },
  {
   "cell_type": "code",
   "execution_count": 19,
   "id": "1671d0b1",
   "metadata": {},
   "outputs": [
    {
     "data": {
      "text/plain": [
       "poutcome     0.029397\n",
       "month        0.024351\n",
       "contact      0.013627\n",
       "housing      0.009654\n",
       "job          0.008264\n",
       "loan         0.002630\n",
       "education    0.002598\n",
       "marital      0.002101\n",
       "default      0.000294\n",
       "dtype: float64"
      ]
     },
     "execution_count": 19,
     "metadata": {},
     "output_type": "execute_result"
    }
   ],
   "source": [
    "from sklearn.metrics import mutual_info_score\n",
    "def mutual_info_churn_score(series):\n",
    "    return mutual_info_score(series, df.y)\n",
    "mi = df[categorical].apply(mutual_info_churn_score)\n",
    "mi.sort_values(ascending=False)"
   ]
  },
  {
   "cell_type": "code",
   "execution_count": 20,
   "id": "a0c802c1",
   "metadata": {},
   "outputs": [
    {
     "data": {
      "text/plain": [
       "duration        0.394521\n",
       "pdays           0.103621\n",
       "balance_logs    0.094435\n",
       "previous        0.093236\n",
       "age             0.025155\n",
       "day            -0.028348\n",
       "campaign       -0.073172\n",
       "dtype: float64"
      ]
     },
     "execution_count": 20,
     "metadata": {},
     "output_type": "execute_result"
    }
   ],
   "source": [
    "corr=df[numerical].corrwith(df.y)\n",
    "corr.sort_values(ascending=False)"
   ]
  },
  {
   "cell_type": "code",
   "execution_count": 21,
   "id": "02616dc4",
   "metadata": {},
   "outputs": [
    {
     "data": {
      "text/plain": [
       "0.5305970149253731"
      ]
     },
     "execution_count": 21,
     "metadata": {},
     "output_type": "execute_result"
    }
   ],
   "source": [
    "df[df.duration >= 700].y.mean()# it shows that people who haven't yet contacted them for over than 700 days,\n",
    "                                #they have good chance of accepting our offer. "
   ]
  },
  {
   "cell_type": "code",
   "execution_count": 22,
   "id": "1da8a283",
   "metadata": {},
   "outputs": [
    {
     "data": {
      "image/png": "[encoded data removed]",
      "text/plain": [
       "<Figure size 1080x720 with 2 Axes>"
      ]
     },
     "metadata": {
      "needs_background": "light"
     },
     "output_type": "display_data"
    }
   ],
   "source": [
    "plt.figure(figsize=(15,10))  \n",
    "sns.heatmap(df[numerical].corr(),annot=True,linewidths=.5, cmap=\"Blues\")\n",
    "plt.title('Heatmap showing correlations between numerical data')\n",
    "plt.show()"
   ]
  },
  {
   "cell_type": "code",
   "execution_count": null,
   "id": "dd87ad3e",
   "metadata": {},
   "outputs": [],
   "source": []
  },
  {
   "cell_type": "markdown",
   "id": "2d37d941",
   "metadata": {},
   "source": [
    "# 3. Training & Tuning Different Models"
   ]
  },
  {
   "cell_type": "markdown",
   "id": "6db5b623",
   "metadata": {},
   "source": [
    "1. [Splitting the data.](#3.1-Splitting-the-data.)\n",
    "2. [One-hot encoding.](#3.2-One-hot-encoding.)\n",
    "3. [Evaluation Metrics.](#3.3-Evaluation-Metrics)\n",
    "4. [LogisticRegression model.](#3.4-LogisticRegression-model.)\n",
    "5. [DecisionTreeClassifier model.](#3.5-DecisionTreeClassifier-model.)\n",
    "    1. [Best DecisionTreeClassifier model.](#3.6.A.The-Best-Random-Forest-Model)\n",
    "6. [RandomForestClassifier model.](#3.6-RandomForestClassifier-model.)\n",
    "    1. [Best RandomForestClassifier model](#3.6.A.The-Best-Random-Forest-Model)\n",
    "7. [XGBoost model.](#3.7-XGBoost-model.)\n",
    "    1. [Best XGBoost model.](#XGB-model-with-the-best-parameters-we-got-from-the-(GridSearchCV).**)"
   ]
  },
  {
   "cell_type": "code",
   "execution_count": 23,
   "id": "c3d70ab8",
   "metadata": {},
   "outputs": [],
   "source": [
    "features = ['age', 'job', 'marital', 'education', 'default', 'balance_logs', 'housing',\n",
    "       'loan', 'contact', 'day', 'month', 'duration', 'campaign', 'pdays',\n",
    "       'previous', 'poutcome']"
   ]
  },
  {
   "cell_type": "markdown",
   "id": "14471877",
   "metadata": {},
   "source": [
    "### 3.1 Splitting the data."
   ]
  },
  {
   "cell_type": "code",
   "execution_count": 24,
   "id": "77cea3dc",
   "metadata": {},
   "outputs": [],
   "source": [
    "from sklearn.model_selection import train_test_split"
   ]
  },
  {
   "cell_type": "code",
   "execution_count": 25,
   "id": "fab9ef33",
   "metadata": {},
   "outputs": [
    {
     "name": "stdout",
     "output_type": "stream",
     "text": [
      "samples in the new training subset: 36168\n",
      "samples in the new test subset: 9043\n"
     ]
    }
   ],
   "source": [
    "df_train, df_val = train_test_split(df, test_size=0.2, random_state=1)\n",
    "\n",
    "print(\"samples in the new training subset:\",len(df_train))\n",
    "print(\"samples in the new test subset:\",len(df_val))"
   ]
  },
  {
   "cell_type": "code",
   "execution_count": 26,
   "id": "8dd22d7e",
   "metadata": {},
   "outputs": [],
   "source": [
    "df_train = df_train.reset_index(drop=True)\n",
    "df_val = df_val.reset_index(drop=True)\n",
    "\n",
    "y_train = df_train.y.values\n",
    "y_val = df_val.y.values"
   ]
  },
  {
   "cell_type": "markdown",
   "id": "ba4cda4d",
   "metadata": {},
   "source": [
    "### 3.2 One-hot encoding."
   ]
  },
  {
   "cell_type": "code",
   "execution_count": 27,
   "id": "31b37c88",
   "metadata": {},
   "outputs": [],
   "source": [
    "from sklearn.feature_extraction import DictVectorizer\n",
    "train_dict = df_train[features].to_dict(orient='records')\n",
    "\n",
    "dv = DictVectorizer(sparse=False)\n",
    "dv.fit(train_dict)\n",
    "\n",
    "X_train = dv.transform(train_dict)"
   ]
  },
  {
   "cell_type": "code",
   "execution_count": 28,
   "id": "bfc82996",
   "metadata": {},
   "outputs": [],
   "source": [
    "test_dict = df_val[features].to_dict(orient='records')\n",
    "X_val = dv.transform(test_dict)"
   ]
  },
  {
   "cell_type": "markdown",
   "id": "624e5a7e",
   "metadata": {},
   "source": [
    "### 3.3 Evaluation Metrics"
   ]
  },
  {
   "cell_type": "markdown",
   "id": "4e01aaa9",
   "metadata": {},
   "source": [
    "After each model we will use **confusion matrix**, **F1_score**, **AUC** on validation and training dataframes.<br>\n",
    "The reason for applying AUC on training dataset to see if the model overfitted or not."
   ]
  },
  {
   "cell_type": "code",
   "execution_count": 29,
   "id": "2416002e",
   "metadata": {},
   "outputs": [],
   "source": [
    "def confusion_matrix_dataframe(y_val, y_pred):\n",
    "    scores = []\n",
    "\n",
    "    thresholds = np.linspace(0, 1, 101)\n",
    "\n",
    "    for t in thresholds:\n",
    "        actual_positive = (y_val == 1)\n",
    "        actual_negative = (y_val == 0)\n",
    "\n",
    "        predict_positive = (y_pred >= t)\n",
    "        predict_negative = (y_pred < t)\n",
    "\n",
    "        tp = (predict_positive & actual_positive).sum()\n",
    "        tn = (predict_negative & actual_negative).sum()\n",
    "\n",
    "        fp = (predict_positive & actual_negative).sum()\n",
    "        fn = (predict_negative & actual_positive).sum()\n",
    "\n",
    "        scores.append((t, tp, fp, fn, tn))\n",
    "\n",
    "    columns = ['threshold', 'tp', 'fp', 'fn', 'tn']\n",
    "    df_scores = pd.DataFrame(scores, columns=columns)\n",
    "    \n",
    "    return df_scores"
   ]
  },
  {
   "cell_type": "markdown",
   "id": "cb0b4bf0",
   "metadata": {},
   "source": [
    "### 3.4 LogisticRegression model."
   ]
  },
  {
   "cell_type": "code",
   "execution_count": 30,
   "id": "4f2830d4",
   "metadata": {},
   "outputs": [],
   "source": [
    "from sklearn.linear_model import LogisticRegression"
   ]
  },
  {
   "cell_type": "code",
   "execution_count": 31,
   "id": "b0c8ac47",
   "metadata": {},
   "outputs": [
    {
     "data": {
      "text/plain": [
       "LogisticRegression(max_iter=10000)"
      ]
     },
     "execution_count": 31,
     "metadata": {},
     "output_type": "execute_result"
    }
   ],
   "source": [
    "model1 = LogisticRegression(solver='lbfgs',max_iter=10000)\n",
    "# solver='lbfgs' is the default solver in newer version of sklearn\n",
    "# for older versions, you need to specify it explicitly\n",
    "model1.fit(X_train, y_train)"
   ]
  },
  {
   "cell_type": "code",
   "execution_count": 32,
   "id": "5f4faa02",
   "metadata": {},
   "outputs": [
    {
     "name": "stdout",
     "output_type": "stream",
     "text": [
      "The accuracy = 0.8860, auc = 0.9084, f1_score = 0.5841\n"
     ]
    }
   ],
   "source": [
    "y_pred = model1.predict_proba(X_val)[:, 1]\n",
    "subscription_decision = (y_pred >= 0.2)\n",
    "accuracy = (y_val == subscription_decision).mean()\n",
    "roc = roc_auc_score(y_val, y_pred)\n",
    "f1=f1_score(y_val, subscription_decision, average='binary')\n",
    "print ('The accuracy = %.4f, auc = %.4f, f1_score = %.4f' %(accuracy, roc, f1))"
   ]
  },
  {
   "cell_type": "markdown",
   "id": "812c6a42",
   "metadata": {},
   "source": [
    "### 3.5 DecisionTreeClassifier model."
   ]
  },
  {
   "cell_type": "code",
   "execution_count": 33,
   "id": "66a2a4aa",
   "metadata": {},
   "outputs": [],
   "source": [
    "from sklearn.tree import DecisionTreeClassifier"
   ]
  },
  {
   "cell_type": "code",
   "execution_count": 34,
   "id": "c633370a",
   "metadata": {},
   "outputs": [
    {
     "name": "stdout",
     "output_type": "stream",
     "text": [
      "   1 -> 0.671 \t 0.000 \t 0.687\n",
      "   2 -> 0.755 \t 0.444 \t 0.760\n",
      "   3 -> 0.774 \t 0.462 \t 0.783\n",
      "   4 -> 0.791 \t 0.431 \t 0.799\n",
      "   5 -> 0.801 \t 0.460 \t 0.815\n",
      "   6 -> 0.845 \t 0.482 \t 0.865\n",
      "   8 -> 0.852 \t 0.500 \t 0.895\n",
      "   9 -> 0.851 \t 0.495 \t 0.911\n",
      "  10 -> 0.848 \t 0.530 \t 0.925\n",
      "  15 -> 0.732 \t 0.513 \t 0.970\n",
      "  20 -> 0.677 \t 0.514 \t 0.994\n",
      "None -> 0.723 \t 0.502 \t 1.000\n"
     ]
    }
   ],
   "source": [
    "depths = [1, 2, 3, 4, 5, 6, 8, 9, 10, 15, 20, None]\n",
    "\n",
    "for depth in depths: \n",
    "    dt = DecisionTreeClassifier(max_depth=depth)\n",
    "    dt.fit(X_train, y_train)\n",
    "    \n",
    "    y_pred1 = dt.predict_proba(X_val)[:, 1]\n",
    "    subscription_decision = (y_pred1 >= 0.5)\n",
    "    auc_val = roc_auc_score(y_val, y_pred1)\n",
    "    f1=f1_score(y_val, subscription_decision, average='binary')\n",
    "    \n",
    "    \n",
    "    y_pred2 = dt.predict_proba(X_train)[:, 1]\n",
    "    auc_train = roc_auc_score(y_train, y_pred2)\n",
    "    \n",
    "    print('%4s -> %.3f \\t %.3f \\t %.3f' % (depth, auc_val, f1, auc_train))"
   ]
  },
  {
   "cell_type": "code",
   "execution_count": 35,
   "id": "1a866d39",
   "metadata": {},
   "outputs": [
    {
     "name": "stdout",
     "output_type": "stream",
     "text": [
      "   5 -> 1 \t 0.801 \t 0.460 \t 0.815\n",
      "   5 -> 5 \t 0.801 \t 0.460 \t 0.814\n",
      "   5 -> 10 \t 0.801 \t 0.455 \t 0.814\n",
      "   5 -> 15 \t 0.801 \t 0.455 \t 0.814\n",
      "   5 -> 20 \t 0.801 \t 0.461 \t 0.814\n",
      "   5 -> 100 \t 0.801 \t 0.467 \t 0.814\n",
      "   5 -> 200 \t 0.799 \t 0.436 \t 0.812\n",
      "   5 -> 500 \t 0.851 \t 0.485 \t 0.859\n",
      "   6 -> 1 \t 0.845 \t 0.482 \t 0.865\n",
      "   6 -> 5 \t 0.845 \t 0.477 \t 0.865\n",
      "   6 -> 10 \t 0.846 \t 0.483 \t 0.865\n",
      "   6 -> 15 \t 0.846 \t 0.484 \t 0.865\n",
      "   6 -> 20 \t 0.847 \t 0.478 \t 0.865\n",
      "   6 -> 100 \t 0.848 \t 0.476 \t 0.863\n",
      "   6 -> 200 \t 0.846 \t 0.477 \t 0.860\n",
      "   6 -> 500 \t 0.870 \t 0.485 \t 0.876\n",
      "   8 -> 1 \t 0.854 \t 0.503 \t 0.895\n",
      "   8 -> 5 \t 0.863 \t 0.502 \t 0.894\n",
      "   8 -> 10 \t 0.861 \t 0.514 \t 0.893\n",
      "   8 -> 15 \t 0.864 \t 0.508 \t 0.892\n",
      "   8 -> 20 \t 0.867 \t 0.508 \t 0.891\n",
      "   8 -> 100 \t 0.878 \t 0.499 \t 0.890\n",
      "   8 -> 200 \t 0.879 \t 0.477 \t 0.888\n",
      "   8 -> 500 \t 0.887 \t 0.485 \t 0.891\n",
      "  10 -> 1 \t 0.845 \t 0.525 \t 0.925\n",
      "  10 -> 5 \t 0.868 \t 0.535 \t 0.923\n",
      "  10 -> 10 \t 0.877 \t 0.535 \t 0.919\n",
      "  10 -> 15 \t 0.882 \t 0.524 \t 0.918\n",
      "  10 -> 20 \t 0.891 \t 0.528 \t 0.916\n",
      "  10 -> 100 \t 0.900 \t 0.487 \t 0.907\n",
      "  10 -> 200 \t 0.896 \t 0.477 \t 0.904\n",
      "  10 -> 500 \t 0.891 \t 0.485 \t 0.896\n",
      "None -> 1 \t 0.718 \t 0.493 \t 1.000\n",
      "None -> 5 \t 0.816 \t 0.515 \t 0.984\n",
      "None -> 10 \t 0.857 \t 0.522 \t 0.969\n",
      "None -> 15 \t 0.874 \t 0.522 \t 0.961\n",
      "None -> 20 \t 0.889 \t 0.520 \t 0.955\n",
      "None -> 100 \t 0.907 \t 0.487 \t 0.928\n",
      "None -> 200 \t 0.906 \t 0.477 \t 0.917\n",
      "None -> 500 \t 0.891 \t 0.485 \t 0.896\n"
     ]
    }
   ],
   "source": [
    "scores = []\n",
    "\n",
    "for depth in [5, 6, 8, 10, None]:\n",
    "    for s in [1, 5, 10, 15, 20, 100, 200, 500]:\n",
    "        dt = DecisionTreeClassifier(max_depth=depth, min_samples_leaf=s)\n",
    "        dt.fit(X_train, y_train)\n",
    "\n",
    "        y_pred1 = dt.predict_proba(X_val)[:, 1]\n",
    "        subscription_decision = (y_pred1 >= 0.5)\n",
    "        auc_val = roc_auc_score(y_val, y_pred1)\n",
    "        f1=f1_score(y_val, subscription_decision, average='binary')\n",
    "\n",
    "\n",
    "        y_pred2 = dt.predict_proba(X_train)[:, 1]\n",
    "        auc_train = roc_auc_score(y_train, y_pred2)\n",
    "\n",
    "        print('%4s -> %.0f \\t %.3f \\t %.3f \\t %.3f' % (depth, s, auc_val, f1, auc_train))\n",
    "        scores.append((depth, s, auc_val, f1, auc_train))"
   ]
  },
  {
   "cell_type": "code",
   "execution_count": 36,
   "id": "f9f87546",
   "metadata": {},
   "outputs": [
    {
     "data": {
      "text/plain": [
       "<AxesSubplot:xlabel='None-max_depth', ylabel='min_samples_leaf'>"
      ]
     },
     "execution_count": 36,
     "metadata": {},
     "output_type": "execute_result"
    },
    {
     "data": {
      "image/png": "[encoded data removed]",
      "text/plain": [
       "<Figure size 432x288 with 2 Axes>"
      ]
     },
     "metadata": {
      "needs_background": "light"
     },
     "output_type": "display_data"
    }
   ],
   "source": [
    "columns = ['max_depth', 'min_samples_leaf', 'auc_val', 'f1', 'auc_train']\n",
    "df_scores = pd.DataFrame(scores, columns=columns)\n",
    "df_scores_pivot = df_scores.pivot(index='min_samples_leaf', columns=['max_depth'], values=['auc_val'])\n",
    "sns.heatmap(df_scores_pivot, annot=True, fmt=\".3f\")"
   ]
  },
  {
   "cell_type": "markdown",
   "id": "aa477d95",
   "metadata": {},
   "source": [
    "from the heatmap we can see that our best auc_val is when (max_depth=None, mix_samples_leaf=100)"
   ]
  },
  {
   "cell_type": "markdown",
   "id": "d9c391f8",
   "metadata": {},
   "source": [
    "### 3.5.A.The Best Decision Tree Model"
   ]
  },
  {
   "cell_type": "code",
   "execution_count": 37,
   "id": "2e1e5f6f",
   "metadata": {},
   "outputs": [
    {
     "data": {
      "text/plain": [
       "DecisionTreeClassifier(min_samples_leaf=100)"
      ]
     },
     "execution_count": 37,
     "metadata": {},
     "output_type": "execute_result"
    }
   ],
   "source": [
    "model2 = DecisionTreeClassifier(max_depth=None, min_samples_leaf=100)\n",
    "model2.fit(X_train, y_train)"
   ]
  },
  {
   "cell_type": "code",
   "execution_count": 38,
   "id": "38a2a683",
   "metadata": {},
   "outputs": [
    {
     "name": "stdout",
     "output_type": "stream",
     "text": [
      "auc_val= 0.907 \t f1= 0.577\t auc_train= 0.928\n"
     ]
    }
   ],
   "source": [
    "y_pred1 = model2.predict_proba(X_val)[:, 1]\n",
    "subscription_decision = (y_pred1 >= 0.30)\n",
    "auc_val = roc_auc_score(y_val, y_pred1)\n",
    "f1=f1_score(y_val, subscription_decision, average='binary')\n",
    "\n",
    "y_pred2 = model2.predict_proba(X_train)[:, 1]\n",
    "auc_train = roc_auc_score(y_train, y_pred2)\n",
    "\n",
    "print('auc_val= %.3f \\t f1= %.3f\\t auc_train= %.3f' % (auc_val, f1, auc_train))\n"
   ]
  },
  {
   "cell_type": "code",
   "execution_count": 39,
   "id": "75c990ff",
   "metadata": {
    "scrolled": false
   },
   "outputs": [
    {
     "name": "stdout",
     "output_type": "stream",
     "text": [
      "|--- duration <= 473.50\n",
      "|   |--- poutcome=success <= 0.50\n",
      "|   |   |--- age <= 60.50\n",
      "|   |   |   |--- duration <= 206.50\n",
      "|   |   |   |   |--- duration <= 111.50\n",
      "|   |   |   |   |   |--- duration <= 78.50\n",
      "|   |   |   |   |   |   |--- education=tertiary <= 0.50\n",
      "|   |   |   |   |   |   |   |--- marital=single <= 0.50\n",
      "|   |   |   |   |   |   |   |   |--- month=jul <= 0.50\n",
      "|   |   |   |   |   |   |   |   |   |--- class: 0\n",
      "|   |   |   |   |   |   |   |   |--- month=jul >  0.50\n",
      "|   |   |   |   |   |   |   |   |   |--- class: 0\n",
      "|   |   |   |   |   |   |   |--- marital=single >  0.50\n",
      "|   |   |   |   |   |   |   |   |--- balance_logs <= 5.82\n",
      "|   |   |   |   |   |   |   |   |   |--- class: 0\n",
      "|   |   |   |   |   |   |   |   |--- balance_logs >  5.82\n",
      "|   |   |   |   |   |   |   |   |   |--- class: 0\n",
      "|   |   |   |   |   |   |--- education=tertiary >  0.50\n",
      "|   |   |   |   |   |   |   |--- duration <= 60.50\n",
      "|   |   |   |   |   |   |   |   |--- duration <= 36.50\n",
      "|   |   |   |   |   |   |   |   |   |--- class: 0\n",
      "|   |   |   |   |   |   |   |   |--- duration >  36.50\n",
      "|   |   |   |   |   |   |   |   |   |--- class: 0\n",
      "|   |   |   |   |   |   |   |--- duration >  60.50\n",
      "|   |   |   |   |   |   |   |   |--- class: 0\n",
      "|   |   |   |   |   |--- duration >  78.50\n",
      "|   |   |   |   |   |   |--- month=may <= 0.50\n",
      "|   |   |   |   |   |   |   |--- age <= 32.50\n",
      "|   |   |   |   |   |   |   |   |--- class: 0\n",
      "|   |   |   |   |   |   |   |--- age >  32.50\n",
      "|   |   |   |   |   |   |   |   |--- balance_logs <= 5.02\n",
      "|   |   |   |   |   |   |   |   |   |--- class: 0\n",
      "|   |   |   |   |   |   |   |   |--- balance_logs >  5.02\n",
      "|   |   |   |   |   |   |   |   |   |--- campaign <= 1.50\n",
      "|   |   |   |   |   |   |   |   |   |   |--- class: 0\n",
      "|   |   |   |   |   |   |   |   |   |--- campaign >  1.50\n",
      "|   |   |   |   |   |   |   |   |   |   |--- day <= 17.50\n",
      "|   |   |   |   |   |   |   |   |   |   |   |--- class: 0\n",
      "|   |   |   |   |   |   |   |   |   |   |--- day >  17.50\n",
      "|   |   |   |   |   |   |   |   |   |   |   |--- class: 0\n",
      "|   |   |   |   |   |   |--- month=may >  0.50\n",
      "|   |   |   |   |   |   |   |--- duration <= 94.50\n",
      "|   |   |   |   |   |   |   |   |--- class: 0\n",
      "|   |   |   |   |   |   |   |--- duration >  94.50\n",
      "|   |   |   |   |   |   |   |   |--- class: 0\n",
      "|   |   |   |   |--- duration >  111.50\n",
      "|   |   |   |   |   |--- housing=no <= 0.50\n",
      "|   |   |   |   |   |   |--- month=may <= 0.50\n",
      "|   |   |   |   |   |   |   |--- month=jul <= 0.50\n",
      "|   |   |   |   |   |   |   |   |--- campaign <= 1.50\n",
      "|   |   |   |   |   |   |   |   |   |--- class: 0\n",
      "|   |   |   |   |   |   |   |   |--- campaign >  1.50\n",
      "|   |   |   |   |   |   |   |   |   |--- campaign <= 2.50\n",
      "|   |   |   |   |   |   |   |   |   |   |--- class: 0\n",
      "|   |   |   |   |   |   |   |   |   |--- campaign >  2.50\n",
      "|   |   |   |   |   |   |   |   |   |   |--- class: 0\n",
      "|   |   |   |   |   |   |   |--- month=jul >  0.50\n",
      "|   |   |   |   |   |   |   |   |--- class: 0\n",
      "|   |   |   |   |   |   |--- month=may >  0.50\n",
      "|   |   |   |   |   |   |   |--- contact=cellular <= 0.50\n",
      "|   |   |   |   |   |   |   |   |--- balance_logs <= 4.20\n",
      "|   |   |   |   |   |   |   |   |   |--- class: 0\n",
      "|   |   |   |   |   |   |   |   |--- balance_logs >  4.20\n",
      "|   |   |   |   |   |   |   |   |   |--- class: 0\n",
      "|   |   |   |   |   |   |   |--- contact=cellular >  0.50\n",
      "|   |   |   |   |   |   |   |   |--- balance_logs <= 5.67\n",
      "|   |   |   |   |   |   |   |   |   |--- class: 0\n",
      "|   |   |   |   |   |   |   |   |--- balance_logs >  5.67\n",
      "|   |   |   |   |   |   |   |   |   |--- class: 0\n",
      "|   |   |   |   |   |--- housing=no >  0.50\n",
      "|   |   |   |   |   |   |--- age <= 30.50\n",
      "|   |   |   |   |   |   |   |--- class: 0\n",
      "|   |   |   |   |   |   |--- age >  30.50\n",
      "|   |   |   |   |   |   |   |--- campaign <= 1.50\n",
      "|   |   |   |   |   |   |   |   |--- balance_logs <= 5.84\n",
      "|   |   |   |   |   |   |   |   |   |--- class: 0\n",
      "|   |   |   |   |   |   |   |   |--- balance_logs >  5.84\n",
      "|   |   |   |   |   |   |   |   |   |--- class: 0\n",
      "|   |   |   |   |   |   |   |--- campaign >  1.50\n",
      "|   |   |   |   |   |   |   |   |--- balance_logs <= 5.44\n",
      "|   |   |   |   |   |   |   |   |   |--- class: 0\n",
      "|   |   |   |   |   |   |   |   |--- balance_logs >  5.44\n",
      "|   |   |   |   |   |   |   |   |   |--- month=aug <= 0.50\n",
      "|   |   |   |   |   |   |   |   |   |   |--- class: 0\n",
      "|   |   |   |   |   |   |   |   |   |--- month=aug >  0.50\n",
      "|   |   |   |   |   |   |   |   |   |   |--- class: 0\n",
      "|   |   |   |--- duration >  206.50\n",
      "|   |   |   |   |--- housing=no <= 0.50\n",
      "|   |   |   |   |   |--- contact=unknown <= 0.50\n",
      "|   |   |   |   |   |   |--- duration <= 341.50\n",
      "|   |   |   |   |   |   |   |--- balance_logs <= 6.93\n",
      "|   |   |   |   |   |   |   |   |--- campaign <= 1.50\n",
      "|   |   |   |   |   |   |   |   |   |--- class: 0\n",
      "|   |   |   |   |   |   |   |   |--- campaign >  1.50\n",
      "|   |   |   |   |   |   |   |   |   |--- class: 0\n",
      "|   |   |   |   |   |   |   |--- balance_logs >  6.93\n",
      "|   |   |   |   |   |   |   |   |--- class: 0\n",
      "|   |   |   |   |   |   |--- duration >  341.50\n",
      "|   |   |   |   |   |   |   |--- balance_logs <= 6.15\n",
      "|   |   |   |   |   |   |   |   |--- class: 0\n",
      "|   |   |   |   |   |   |   |--- balance_logs >  6.15\n",
      "|   |   |   |   |   |   |   |   |--- class: 0\n",
      "|   |   |   |   |   |--- contact=unknown >  0.50\n",
      "|   |   |   |   |   |   |--- duration <= 368.50\n",
      "|   |   |   |   |   |   |   |--- duration <= 248.50\n",
      "|   |   |   |   |   |   |   |   |--- class: 0\n",
      "|   |   |   |   |   |   |   |--- duration >  248.50\n",
      "|   |   |   |   |   |   |   |   |--- class: 0\n",
      "|   |   |   |   |   |   |--- duration >  368.50\n",
      "|   |   |   |   |   |   |   |--- class: 0\n",
      "|   |   |   |   |--- housing=no >  0.50\n",
      "|   |   |   |   |   |--- pdays <= 17.00\n",
      "|   |   |   |   |   |   |--- contact=unknown <= 0.50\n",
      "|   |   |   |   |   |   |   |--- balance_logs <= 4.68\n",
      "|   |   |   |   |   |   |   |   |--- class: 0\n",
      "|   |   |   |   |   |   |   |--- balance_logs >  4.68\n",
      "|   |   |   |   |   |   |   |   |--- month=aug <= 0.50\n",
      "|   |   |   |   |   |   |   |   |   |--- education=tertiary <= 0.50\n",
      "|   |   |   |   |   |   |   |   |   |   |--- class: 0\n",
      "|   |   |   |   |   |   |   |   |   |--- education=tertiary >  0.50\n",
      "|   |   |   |   |   |   |   |   |   |   |--- class: 0\n",
      "|   |   |   |   |   |   |   |   |--- month=aug >  0.50\n",
      "|   |   |   |   |   |   |   |   |   |--- class: 0\n",
      "|   |   |   |   |   |   |--- contact=unknown >  0.50\n",
      "|   |   |   |   |   |   |   |--- class: 0\n",
      "|   |   |   |   |   |--- pdays >  17.00\n",
      "|   |   |   |   |   |   |--- class: 0\n",
      "|   |   |--- age >  60.50\n",
      "|   |   |   |--- class: 0\n",
      "|   |--- poutcome=success >  0.50\n",
      "|   |   |--- class: 1\n",
      "|--- duration >  473.50\n",
      "|   |--- duration <= 827.50\n",
      "|   |   |--- contact=unknown <= 0.50\n",
      "|   |   |   |--- duration <= 605.50\n",
      "|   |   |   |   |--- housing=no <= 0.50\n",
      "|   |   |   |   |   |--- class: 0\n",
      "|   |   |   |   |--- housing=no >  0.50\n",
      "|   |   |   |   |   |--- class: 0\n",
      "|   |   |   |--- duration >  605.50\n",
      "|   |   |   |   |--- day <= 15.50\n",
      "|   |   |   |   |   |--- class: 1\n",
      "|   |   |   |   |--- day >  15.50\n",
      "|   |   |   |   |   |--- class: 0\n",
      "|   |   |--- contact=unknown >  0.50\n",
      "|   |   |   |--- class: 0\n",
      "|   |--- duration >  827.50\n",
      "|   |   |--- marital=married <= 0.50\n",
      "|   |   |   |--- class: 1\n",
      "|   |   |--- marital=married >  0.50\n",
      "|   |   |   |--- class: 1\n",
      "\n"
     ]
    }
   ],
   "source": [
    "#just to know our model features\n",
    "print(export_text(dt, feature_names=dv.get_feature_names()))"
   ]
  },
  {
   "cell_type": "markdown",
   "id": "dea0872a",
   "metadata": {},
   "source": [
    "**Getting the best threshold for f1_score & seeing the presicion and recall value**"
   ]
  },
  {
   "cell_type": "code",
   "execution_count": 40,
   "id": "588c4487",
   "metadata": {},
   "outputs": [
    {
     "data": {
      "text/html": [
       "<div>\n",
       "<style scoped>\n",
       "    .dataframe tbody tr th:only-of-type {\n",
       "        vertical-align: middle;\n",
       "    }\n",
       "\n",
       "    .dataframe tbody tr th {\n",
       "        vertical-align: top;\n",
       "    }\n",
       "\n",
       "    .dataframe thead th {\n",
       "        text-align: right;\n",
       "    }\n",
       "</style>\n",
       "<table border=\"1\" class=\"dataframe\">\n",
       "  <thead>\n",
       "    <tr style=\"text-align: right;\">\n",
       "      <th></th>\n",
       "      <th>threshold</th>\n",
       "      <th>tp</th>\n",
       "      <th>fp</th>\n",
       "      <th>fn</th>\n",
       "      <th>tn</th>\n",
       "    </tr>\n",
       "  </thead>\n",
       "  <tbody>\n",
       "    <tr>\n",
       "      <th>0</th>\n",
       "      <td>0.0</td>\n",
       "      <td>1050</td>\n",
       "      <td>7993</td>\n",
       "      <td>0</td>\n",
       "      <td>0</td>\n",
       "    </tr>\n",
       "    <tr>\n",
       "      <th>10</th>\n",
       "      <td>0.1</td>\n",
       "      <td>944</td>\n",
       "      <td>1752</td>\n",
       "      <td>106</td>\n",
       "      <td>6241</td>\n",
       "    </tr>\n",
       "    <tr>\n",
       "      <th>20</th>\n",
       "      <td>0.2</td>\n",
       "      <td>830</td>\n",
       "      <td>1058</td>\n",
       "      <td>220</td>\n",
       "      <td>6935</td>\n",
       "    </tr>\n",
       "    <tr>\n",
       "      <th>30</th>\n",
       "      <td>0.3</td>\n",
       "      <td>716</td>\n",
       "      <td>716</td>\n",
       "      <td>334</td>\n",
       "      <td>7277</td>\n",
       "    </tr>\n",
       "    <tr>\n",
       "      <th>40</th>\n",
       "      <td>0.4</td>\n",
       "      <td>582</td>\n",
       "      <td>459</td>\n",
       "      <td>468</td>\n",
       "      <td>7534</td>\n",
       "    </tr>\n",
       "    <tr>\n",
       "      <th>50</th>\n",
       "      <td>0.5</td>\n",
       "      <td>426</td>\n",
       "      <td>274</td>\n",
       "      <td>624</td>\n",
       "      <td>7719</td>\n",
       "    </tr>\n",
       "    <tr>\n",
       "      <th>60</th>\n",
       "      <td>0.6</td>\n",
       "      <td>288</td>\n",
       "      <td>130</td>\n",
       "      <td>762</td>\n",
       "      <td>7863</td>\n",
       "    </tr>\n",
       "    <tr>\n",
       "      <th>70</th>\n",
       "      <td>0.7</td>\n",
       "      <td>178</td>\n",
       "      <td>64</td>\n",
       "      <td>872</td>\n",
       "      <td>7929</td>\n",
       "    </tr>\n",
       "    <tr>\n",
       "      <th>80</th>\n",
       "      <td>0.8</td>\n",
       "      <td>50</td>\n",
       "      <td>12</td>\n",
       "      <td>1000</td>\n",
       "      <td>7981</td>\n",
       "    </tr>\n",
       "    <tr>\n",
       "      <th>90</th>\n",
       "      <td>0.9</td>\n",
       "      <td>0</td>\n",
       "      <td>0</td>\n",
       "      <td>1050</td>\n",
       "      <td>7993</td>\n",
       "    </tr>\n",
       "    <tr>\n",
       "      <th>100</th>\n",
       "      <td>1.0</td>\n",
       "      <td>0</td>\n",
       "      <td>0</td>\n",
       "      <td>1050</td>\n",
       "      <td>7993</td>\n",
       "    </tr>\n",
       "  </tbody>\n",
       "</table>\n",
       "</div>"
      ],
      "text/plain": [
       "     threshold    tp    fp    fn    tn\n",
       "0          0.0  1050  7993     0     0\n",
       "10         0.1   944  1752   106  6241\n",
       "20         0.2   830  1058   220  6935\n",
       "30         0.3   716   716   334  7277\n",
       "40         0.4   582   459   468  7534\n",
       "50         0.5   426   274   624  7719\n",
       "60         0.6   288   130   762  7863\n",
       "70         0.7   178    64   872  7929\n",
       "80         0.8    50    12  1000  7981\n",
       "90         0.9     0     0  1050  7993\n",
       "100        1.0     0     0  1050  7993"
      ]
     },
     "execution_count": 40,
     "metadata": {},
     "output_type": "execute_result"
    }
   ],
   "source": [
    "df_scores = confusion_matrix_dataframe(y_val, y_pred1)\n",
    "df_scores[::10]"
   ]
  },
  {
   "cell_type": "code",
   "execution_count": 41,
   "id": "185b4770",
   "metadata": {},
   "outputs": [
    {
     "data": {
      "image/png": "[encoded data removed]",
      "text/plain": [
       "<Figure size 432x288 with 1 Axes>"
      ]
     },
     "metadata": {
      "needs_background": "light"
     },
     "output_type": "display_data"
    }
   ],
   "source": [
    "df_scores['p'] = df_scores.tp / (df_scores.tp + df_scores.fp)\n",
    "df_scores['r'] = df_scores.tp / (df_scores.tp + df_scores.fn)\n",
    "\n",
    "plt.plot(df_scores.threshold, df_scores.p, label='precision')\n",
    "plt.plot(df_scores.threshold, df_scores.r, label='recall')\n",
    "\n",
    "plt.vlines(0.4, 0, 1, color='grey', linestyle='--', alpha=0.5)\n",
    "\n",
    "plt.legend()\n",
    "plt.show()"
   ]
  },
  {
   "cell_type": "code",
   "execution_count": 42,
   "id": "3e745b1d",
   "metadata": {},
   "outputs": [
    {
     "data": {
      "image/png": "[encoded data removed]",
      "text/plain": [
       "<Figure size 720x360 with 1 Axes>"
      ]
     },
     "metadata": {
      "needs_background": "light"
     },
     "output_type": "display_data"
    }
   ],
   "source": [
    "df_scores['f1'] = 2 * df_scores.p * df_scores.r / (df_scores.p + df_scores.r)\n",
    "\n",
    "plt.figure(figsize=(10, 5))\n",
    "plt.plot(df_scores.threshold, df_scores.f1)\n",
    "plt.vlines(0.3, 0, 0.7, color='grey', linestyle='--', alpha=0.5)\n",
    "\n",
    "plt.xticks(np.linspace(0, 1, 11))\n",
    "plt.show()"
   ]
  },
  {
   "cell_type": "markdown",
   "id": "a054e630",
   "metadata": {},
   "source": [
    "so the best F1_score threshold = 0.3 and that is our best decision tree model."
   ]
  },
  {
   "cell_type": "code",
   "execution_count": null,
   "id": "502e7ee5",
   "metadata": {},
   "outputs": [],
   "source": []
  },
  {
   "cell_type": "code",
   "execution_count": null,
   "id": "db41930f",
   "metadata": {},
   "outputs": [],
   "source": []
  },
  {
   "cell_type": "markdown",
   "id": "826cc124",
   "metadata": {},
   "source": [
    "### 3.6 RandomForestClassifier model."
   ]
  },
  {
   "cell_type": "code",
   "execution_count": 43,
   "id": "ef637a8d",
   "metadata": {},
   "outputs": [],
   "source": [
    "from sklearn.ensemble import RandomForestClassifier"
   ]
  },
  {
   "cell_type": "code",
   "execution_count": 44,
   "id": "a119127b",
   "metadata": {
    "scrolled": true
   },
   "outputs": [
    {
     "name": "stdout",
     "output_type": "stream",
     "text": [
      "  10 -> auc_val= 0.894\t f1= 0.574\t auc_train=1.000\n",
      "  20 -> auc_val= 0.916\t f1= 0.600\t auc_train=1.000\n",
      "  30 -> auc_val= 0.921\t f1= 0.602\t auc_train=1.000\n",
      "  40 -> auc_val= 0.923\t f1= 0.606\t auc_train=1.000\n",
      "  50 -> auc_val= 0.925\t f1= 0.611\t auc_train=1.000\n",
      "  60 -> auc_val= 0.927\t f1= 0.615\t auc_train=1.000\n",
      "  70 -> auc_val= 0.927\t f1= 0.611\t auc_train=1.000\n",
      "  80 -> auc_val= 0.927\t f1= 0.612\t auc_train=1.000\n",
      "  90 -> auc_val= 0.928\t f1= 0.609\t auc_train=1.000\n",
      " 100 -> auc_val= 0.929\t f1= 0.611\t auc_train=1.000\n",
      " 110 -> auc_val= 0.929\t f1= 0.615\t auc_train=1.000\n",
      " 120 -> auc_val= 0.929\t f1= 0.612\t auc_train=1.000\n",
      " 130 -> auc_val= 0.929\t f1= 0.609\t auc_train=1.000\n",
      " 140 -> auc_val= 0.930\t f1= 0.611\t auc_train=1.000\n",
      " 150 -> auc_val= 0.930\t f1= 0.611\t auc_train=1.000\n",
      " 160 -> auc_val= 0.930\t f1= 0.616\t auc_train=1.000\n",
      " 170 -> auc_val= 0.930\t f1= 0.617\t auc_train=1.000\n",
      " 180 -> auc_val= 0.930\t f1= 0.615\t auc_train=1.000\n",
      " 190 -> auc_val= 0.930\t f1= 0.615\t auc_train=1.000\n",
      " 200 -> auc_val= 0.930\t f1= 0.617\t auc_train=1.000\n",
      " 210 -> auc_val= 0.930\t f1= 0.617\t auc_train=1.000\n",
      " 220 -> auc_val= 0.931\t f1= 0.615\t auc_train=1.000\n",
      " 230 -> auc_val= 0.931\t f1= 0.614\t auc_train=1.000\n",
      " 240 -> auc_val= 0.931\t f1= 0.616\t auc_train=1.000\n",
      " 250 -> auc_val= 0.931\t f1= 0.615\t auc_train=1.000\n"
     ]
    }
   ],
   "source": [
    "scores = []\n",
    "\n",
    "for n in range(10, 251, 10):\n",
    "    rf = RandomForestClassifier(n_estimators=n, random_state=1, n_jobs=-1)\n",
    "    rf.fit(X_train, y_train)\n",
    "\n",
    "    y_pred = rf.predict_proba(X_val)[:, 1]  \n",
    "    subscription_decision = (y_pred >= 0.3)\n",
    "    auc_val = roc_auc_score(y_val, y_pred)\n",
    "    f1=f1_score(y_val, subscription_decision, average='binary')\n",
    "    \n",
    "    y_pred2 = rf.predict_proba(X_train)[:, 1]\n",
    "    auc_train = roc_auc_score(y_train, y_pred2)\n",
    "    print('%4s -> auc_val= %.3f\\t f1= %.3f\\t auc_train=%.3f' % (n, auc_val, f1, auc_train))\n",
    "\n",
    "    scores.append((n, auc_val, f1, auc_train))"
   ]
  },
  {
   "cell_type": "markdown",
   "id": "86434f3f",
   "metadata": {},
   "source": [
    "As we can see auc_train =1 because the max depth is set to None, so we need to tune it."
   ]
  },
  {
   "cell_type": "code",
   "execution_count": 45,
   "id": "8ec36a9f",
   "metadata": {
    "scrolled": true
   },
   "outputs": [
    {
     "data": {
      "image/png": "[encoded data removed]",
      "text/plain": [
       "<Figure size 432x288 with 1 Axes>"
      ]
     },
     "metadata": {
      "needs_background": "light"
     },
     "output_type": "display_data"
    }
   ],
   "source": [
    "df_scores = pd.DataFrame(scores, columns=['n_estimators', 'auc_val', 'f1','auc_train'])\n",
    "plt.plot(df_scores.n_estimators, df_scores.f1, label='f1', color='red')\n",
    "plt.plot(df_scores.n_estimators, df_scores.auc_val, label='auc_val',color='green')\n",
    "\n",
    "plt.legend()\n",
    "plt.show()"
   ]
  },
  {
   "cell_type": "code",
   "execution_count": 46,
   "id": "5b43b967",
   "metadata": {
    "scrolled": true
   },
   "outputs": [],
   "source": [
    "scores = []\n",
    "\n",
    "for d in [5, 10, 15, 17]:\n",
    "    for n in range(10, 111, 10):\n",
    "        rf = RandomForestClassifier(n_estimators=n,\n",
    "                                    max_depth=d,\n",
    "                                    random_state=1, n_jobs=-1)\n",
    "        rf.fit(X_train, y_train)\n",
    "\n",
    "        y_pred = rf.predict_proba(X_val)[:, 1]\n",
    "        subscription_decision = (y_pred >= 0.3)\n",
    "        auc_val = roc_auc_score(y_val, y_pred)\n",
    "        f1=f1_score(y_val, subscription_decision, average='binary')\n",
    "        \n",
    "        y_pred = rf.predict_proba(X_train)[:, 1]\n",
    "        auc_train = roc_auc_score(y_train, y_pred)\n",
    "        #print('d= %4s -> n= %.0f\\t auc_val= %.3f\\t f1= %.3f\\t auc_train=%.3f' % (d, n, auc_val, f1, auc_train))\n",
    "        #print statment is for reading but visualizing is better\n",
    "        \n",
    "        scores.append((d, n, auc_val, auc_train, f1))"
   ]
  },
  {
   "cell_type": "markdown",
   "id": "85b7d5f3",
   "metadata": {},
   "source": [
    "d= 15 -> n=60 ,auc_val= 0.929\t f1= 0.616\t auc_train=0.984"
   ]
  },
  {
   "cell_type": "code",
   "execution_count": 47,
   "id": "1cb4dff0",
   "metadata": {},
   "outputs": [
    {
     "data": {
      "text/plain": [
       "<matplotlib.legend.Legend at 0x1d6a5479fa0>"
      ]
     },
     "execution_count": 47,
     "metadata": {},
     "output_type": "execute_result"
    },
    {
     "data": {
      "image/png": "[encoded data removed]",
      "text/plain": [
       "<Figure size 432x288 with 1 Axes>"
      ]
     },
     "metadata": {
      "needs_background": "light"
     },
     "output_type": "display_data"
    }
   ],
   "source": [
    "columns = ['max_depth', 'n_estimators', 'auc_val','auc_train','f1']\n",
    "df_scores = pd.DataFrame(scores, columns=columns)\n",
    "\n",
    "for d in [5, 10, 15, 17]:\n",
    "    df_subset = df_scores[df_scores.max_depth == d]\n",
    "    \n",
    "    plt.plot(df_subset.n_estimators,  df_subset.auc_val,\n",
    "             label='max_depth=%d' % d)\n",
    "\n",
    "plt.legend()"
   ]
  },
  {
   "cell_type": "code",
   "execution_count": 48,
   "id": "f01b0976",
   "metadata": {},
   "outputs": [
    {
     "data": {
      "text/plain": [
       "<matplotlib.legend.Legend at 0x1d6a8fb1f40>"
      ]
     },
     "execution_count": 48,
     "metadata": {},
     "output_type": "execute_result"
    },
    {
     "data": {
      "image/png": "[encoded data removed]",
      "text/plain": [
       "<Figure size 432x288 with 1 Axes>"
      ]
     },
     "metadata": {
      "needs_background": "light"
     },
     "output_type": "display_data"
    }
   ],
   "source": [
    "for d in [5, 10, 15, 17]:\n",
    "    df_subset = df_scores[df_scores.max_depth == d]\n",
    "    \n",
    "    plt.plot(df_subset.n_estimators,  df_subset.auc_train,\n",
    "             label='max_depth=%d' % d)\n",
    "\n",
    "plt.legend()"
   ]
  },
  {
   "cell_type": "code",
   "execution_count": 49,
   "id": "cf5836fa",
   "metadata": {
    "scrolled": false
   },
   "outputs": [],
   "source": [
    "scores = []\n",
    "\n",
    "for s in [1, 3, 5, 10, 50]:\n",
    "    for n in range(10, 251, 10):\n",
    "        rf = RandomForestClassifier(n_estimators=n,\n",
    "                                    max_depth=15,\n",
    "                                    min_samples_leaf=s,\n",
    "                                    random_state=1, n_jobs=-1)\n",
    "        rf.fit(X_train, y_train)\n",
    "\n",
    "        y_pred = rf.predict_proba(X_val)[:, 1]\n",
    "        subscription_decision = (y_pred >= 0.3)\n",
    "        auc_val = roc_auc_score(y_val, y_pred)\n",
    "        f1=f1_score(y_val, subscription_decision, average='binary')\n",
    "        \n",
    "        y_pred = rf.predict_proba(X_train)[:, 1]\n",
    "        auc_train = roc_auc_score(y_train, y_pred)\n",
    "        \n",
    "       \n",
    "        #print('s= %1s -> n= %.0f\\t auc_val= %.3f\\t f1= %.3f\\t auc_train=%.3f' % (s, n, auc_val, f1, auc_train))\n",
    "        #print statment is for reading but visualizing is better\n",
    "        scores.append((s, n, auc_val, auc_train, f1))"
   ]
  },
  {
   "cell_type": "markdown",
   "id": "fee3d93a",
   "metadata": {},
   "source": [
    "s=   10 -> n= 250\t auc_val= 0.930\t f1= 0.611\t auc_train=0.957"
   ]
  },
  {
   "cell_type": "code",
   "execution_count": 50,
   "id": "61f5d09d",
   "metadata": {
    "scrolled": true
   },
   "outputs": [
    {
     "data": {
      "text/plain": [
       "<matplotlib.legend.Legend at 0x1d6a902d460>"
      ]
     },
     "execution_count": 50,
     "metadata": {},
     "output_type": "execute_result"
    },
    {
     "data": {
      "image/png": "[encoded data removed]",
      "text/plain": [
       "<Figure size 432x288 with 1 Axes>"
      ]
     },
     "metadata": {
      "needs_background": "light"
     },
     "output_type": "display_data"
    }
   ],
   "source": [
    "columns = ['min_samples_leaf', 'n_estimators', 'auc_val','auc_train','f']\n",
    "df_scores = pd.DataFrame(scores, columns=columns)\n",
    "\n",
    "for s in [1, 3, 5, 10, 50]:\n",
    "    df_subset = df_scores[df_scores.min_samples_leaf == s]\n",
    "    \n",
    "    plt.plot(df_subset.n_estimators,  df_subset.auc_val,\n",
    "             label='min_samples_leaf=%d' % s)\n",
    "\n",
    "plt.legend()"
   ]
  },
  {
   "cell_type": "code",
   "execution_count": 51,
   "id": "e6196b03",
   "metadata": {},
   "outputs": [
    {
     "data": {
      "text/plain": [
       "<matplotlib.legend.Legend at 0x1d6a55de400>"
      ]
     },
     "execution_count": 51,
     "metadata": {},
     "output_type": "execute_result"
    },
    {
     "data": {
      "image/png": "[encoded data removed]",
      "text/plain": [
       "<Figure size 432x288 with 1 Axes>"
      ]
     },
     "metadata": {
      "needs_background": "light"
     },
     "output_type": "display_data"
    }
   ],
   "source": [
    "for s in [1, 3, 5, 10, 50]:\n",
    "    df_subset = df_scores[df_scores.min_samples_leaf == s]\n",
    "    \n",
    "    plt.plot(df_subset.n_estimators,  df_subset.auc_train,\n",
    "             label='max_depth=%d' % s)\n",
    "\n",
    "plt.legend()"
   ]
  },
  {
   "cell_type": "code",
   "execution_count": null,
   "id": "9ce19465",
   "metadata": {},
   "outputs": [],
   "source": []
  },
  {
   "cell_type": "code",
   "execution_count": 52,
   "id": "e440ae65",
   "metadata": {},
   "outputs": [
    {
     "data": {
      "text/plain": [
       "RandomForestClassifier(max_depth=15, max_features=16, min_samples_leaf=3,\n",
       "                       n_estimators=250, n_jobs=-1, random_state=1)"
      ]
     },
     "execution_count": 52,
     "metadata": {},
     "output_type": "execute_result"
    }
   ],
   "source": [
    "rf = RandomForestClassifier(n_estimators=250,\n",
    "                            max_depth=15,\n",
    "                            min_samples_leaf=3,\n",
    "                            random_state=1, bootstrap=True, max_features= 16, n_jobs=-1)\n",
    "rf.fit(X_train, y_train)"
   ]
  },
  {
   "cell_type": "code",
   "execution_count": 53,
   "id": "c9a81254",
   "metadata": {},
   "outputs": [
    {
     "name": "stdout",
     "output_type": "stream",
     "text": [
      "auc_val= 0.932\t f1= 0.615\t auc_train=0.978\n"
     ]
    }
   ],
   "source": [
    "y_pred = rf.predict_proba(X_val)[:, 1]\n",
    "subscription_decision = (y_pred >= 0.3)\n",
    "auc_val = roc_auc_score(y_val, y_pred)\n",
    "f1=f1_score(y_val, subscription_decision, average='binary')\n",
    "\n",
    "y_pred = rf.predict_proba(X_train)[:, 1]\n",
    "auc_train = roc_auc_score(y_train, y_pred)\n",
    "\n",
    "\n",
    "print('auc_val= %.3f\\t f1= %.3f\\t auc_train=%.3f' %(auc_val, f1, auc_train))"
   ]
  },
  {
   "cell_type": "code",
   "execution_count": 54,
   "id": "46745d18",
   "metadata": {},
   "outputs": [
    {
     "data": {
      "text/plain": [
       "RandomForestClassifier(bootstrap=False, max_depth=15, max_features=16,\n",
       "                       min_samples_leaf=3, n_estimators=250, n_jobs=-1,\n",
       "                       random_state=1)"
      ]
     },
     "execution_count": 54,
     "metadata": {},
     "output_type": "execute_result"
    }
   ],
   "source": [
    "rf = RandomForestClassifier(n_estimators=250,\n",
    "                            max_depth=15,\n",
    "                            min_samples_leaf=3,\n",
    "                            random_state=1, bootstrap=False, max_features= 16, n_jobs=-1)\n",
    "rf.fit(X_train, y_train)"
   ]
  },
  {
   "cell_type": "code",
   "execution_count": 55,
   "id": "174e8e27",
   "metadata": {},
   "outputs": [
    {
     "name": "stdout",
     "output_type": "stream",
     "text": [
      "auc_val= 0.932\t f1= 0.616\t auc_train=0.985\n"
     ]
    }
   ],
   "source": [
    "y_pred = rf.predict_proba(X_val)[:, 1]\n",
    "subscription_decision = (y_pred >= 0.3)\n",
    "auc_val = roc_auc_score(y_val, y_pred)\n",
    "f1=f1_score(y_val, subscription_decision, average='binary')\n",
    "\n",
    "y_pred = rf.predict_proba(X_train)[:, 1]\n",
    "auc_train = roc_auc_score(y_train, y_pred)\n",
    "\n",
    "\n",
    "print('auc_val= %.3f\\t f1= %.3f\\t auc_train=%.3f' %(auc_val, f1, auc_train))"
   ]
  },
  {
   "cell_type": "code",
   "execution_count": null,
   "id": "afc96762",
   "metadata": {},
   "outputs": [],
   "source": []
  },
  {
   "cell_type": "code",
   "execution_count": 56,
   "id": "2d54ffef",
   "metadata": {},
   "outputs": [
    {
     "data": {
      "text/plain": [
       "RandomForestClassifier(max_depth=15, min_samples_leaf=3, n_estimators=250,\n",
       "                       n_jobs=-1, random_state=1)"
      ]
     },
     "execution_count": 56,
     "metadata": {},
     "output_type": "execute_result"
    }
   ],
   "source": [
    "rf = RandomForestClassifier(n_estimators=250,\n",
    "                            max_depth=15,\n",
    "                            min_samples_leaf=3,\n",
    "                            random_state=1, bootstrap=True, max_features= \"auto\", n_jobs=-1)\n",
    "rf.fit(X_train, y_train)"
   ]
  },
  {
   "cell_type": "code",
   "execution_count": 57,
   "id": "bd96f642",
   "metadata": {},
   "outputs": [
    {
     "name": "stdout",
     "output_type": "stream",
     "text": [
      "auc_val= 0.932\t f1= 0.614\t auc_train=0.971\n"
     ]
    }
   ],
   "source": [
    "y_pred = rf.predict_proba(X_val)[:, 1]\n",
    "subscription_decision = (y_pred >= 0.3)\n",
    "auc_val = roc_auc_score(y_val, y_pred)\n",
    "f1=f1_score(y_val, subscription_decision, average='binary')\n",
    "\n",
    "y_pred = rf.predict_proba(X_train)[:, 1]\n",
    "auc_train = roc_auc_score(y_train, y_pred)\n",
    "\n",
    "\n",
    "print('auc_val= %.3f\\t f1= %.3f\\t auc_train=%.3f' %(auc_val, f1, auc_train))"
   ]
  },
  {
   "cell_type": "code",
   "execution_count": null,
   "id": "ce158661",
   "metadata": {},
   "outputs": [],
   "source": []
  },
  {
   "cell_type": "code",
   "execution_count": 58,
   "id": "fc9ea143",
   "metadata": {},
   "outputs": [
    {
     "data": {
      "text/plain": [
       "RandomForestClassifier(max_depth=15, max_features='log2', min_samples_leaf=3,\n",
       "                       n_estimators=250, n_jobs=-1, random_state=1)"
      ]
     },
     "execution_count": 58,
     "metadata": {},
     "output_type": "execute_result"
    }
   ],
   "source": [
    "rf = RandomForestClassifier(n_estimators=250,\n",
    "                            max_depth=15,\n",
    "                            min_samples_leaf=3,\n",
    "                            random_state=1, bootstrap=True, max_features= \"log2\", n_jobs=-1)\n",
    "rf.fit(X_train, y_train)"
   ]
  },
  {
   "cell_type": "code",
   "execution_count": 59,
   "id": "1d79aac4",
   "metadata": {},
   "outputs": [
    {
     "name": "stdout",
     "output_type": "stream",
     "text": [
      "auc_val= 0.929\t f1= 0.609\t auc_train=0.966\n"
     ]
    }
   ],
   "source": [
    "y_pred = rf.predict_proba(X_val)[:, 1]\n",
    "subscription_decision = (y_pred >= 0.3)\n",
    "auc_val = roc_auc_score(y_val, y_pred)\n",
    "f1=f1_score(y_val, subscription_decision, average='binary')\n",
    "\n",
    "y_pred = rf.predict_proba(X_train)[:, 1]\n",
    "auc_train = roc_auc_score(y_train, y_pred)\n",
    "\n",
    "\n",
    "print('auc_val= %.3f\\t f1= %.3f\\t auc_train=%.3f' %(auc_val, f1, auc_train))"
   ]
  },
  {
   "cell_type": "markdown",
   "id": "748e6574",
   "metadata": {},
   "source": [
    "### 3.6.A.The Best Random Forest Model"
   ]
  },
  {
   "cell_type": "code",
   "execution_count": 60,
   "id": "e3f13b3e",
   "metadata": {},
   "outputs": [
    {
     "data": {
      "text/plain": [
       "RandomForestClassifier(max_depth=15, max_features=16, min_samples_leaf=3,\n",
       "                       n_estimators=250, n_jobs=-1, random_state=1)"
      ]
     },
     "execution_count": 60,
     "metadata": {},
     "output_type": "execute_result"
    }
   ],
   "source": [
    "model3 = RandomForestClassifier(n_estimators=250,\n",
    "                            max_depth=15,\n",
    "                            min_samples_leaf=3,\n",
    "                            random_state=1, bootstrap=True, max_features= 16, n_jobs=-1)\n",
    "model3.fit(X_train, y_train)"
   ]
  },
  {
   "cell_type": "markdown",
   "id": "8bb9e40b",
   "metadata": {},
   "source": [
    "this is an alternative way to tune the parameters using **GridSearchCV** , it took more time but less code and it is simple"
   ]
  },
  {
   "cell_type": "code",
   "execution_count": 61,
   "id": "bc390888",
   "metadata": {},
   "outputs": [],
   "source": [
    "params =[{'n_estimators' : [80,100,150,200,250],\n",
    "         'max_depth' : [5,10,15,20],\n",
    "         'min_samples_leaf' : [1,3,5,10,50]}]"
   ]
  },
  {
   "cell_type": "code",
   "execution_count": 62,
   "id": "c0c95e5c",
   "metadata": {},
   "outputs": [],
   "source": [
    "gcv=GridSearchCV(RandomForestClassifier(), param_grid=params, scoring='f1',n_jobs=-1,)"
   ]
  },
  {
   "cell_type": "code",
   "execution_count": 63,
   "id": "47738b0f",
   "metadata": {},
   "outputs": [
    {
     "data": {
      "text/plain": [
       "GridSearchCV(estimator=RandomForestClassifier(), n_jobs=-1,\n",
       "             param_grid=[{'max_depth': [5, 10, 15, 20],\n",
       "                          'min_samples_leaf': [1, 3, 5, 10, 50],\n",
       "                          'n_estimators': [80, 100, 150, 200, 250]}],\n",
       "             scoring='f1')"
      ]
     },
     "execution_count": 63,
     "metadata": {},
     "output_type": "execute_result"
    }
   ],
   "source": [
    "gcv.fit(X_train, y_train)"
   ]
  },
  {
   "cell_type": "code",
   "execution_count": 64,
   "id": "5b7c3dc1",
   "metadata": {},
   "outputs": [
    {
     "data": {
      "text/plain": [
       "{'max_depth': 20, 'min_samples_leaf': 1, 'n_estimators': 150}"
      ]
     },
     "execution_count": 64,
     "metadata": {},
     "output_type": "execute_result"
    }
   ],
   "source": [
    "gcv.best_params_"
   ]
  },
  {
   "cell_type": "code",
   "execution_count": 65,
   "id": "bd648844",
   "metadata": {},
   "outputs": [
    {
     "data": {
      "text/plain": [
       "0.9243058197033093"
      ]
     },
     "execution_count": 65,
     "metadata": {},
     "output_type": "execute_result"
    }
   ],
   "source": [
    "gcv.score(X_train, y_train)"
   ]
  },
  {
   "cell_type": "code",
   "execution_count": 66,
   "id": "b86cb049",
   "metadata": {},
   "outputs": [
    {
     "data": {
      "text/plain": [
       "0.6227254346947028"
      ]
     },
     "execution_count": 66,
     "metadata": {},
     "output_type": "execute_result"
    }
   ],
   "source": [
    "y_pred1=gcv.predict_proba(X_val)[:, 1]\n",
    "subscription_decision = (y_pred1 >= 0.3)\n",
    "f1=f1_score(y_val, subscription_decision, average='binary')\n",
    "f1"
   ]
  },
  {
   "cell_type": "code",
   "execution_count": 67,
   "id": "62cab9bc",
   "metadata": {},
   "outputs": [
    {
     "name": "stdout",
     "output_type": "stream",
     "text": [
      "auc_val= 0.932\t f1= 0.615\t auc_train=0.978\n"
     ]
    }
   ],
   "source": [
    "y_pred1 = model3.predict_proba(X_val)[:, 1]\n",
    "subscription_decision = (y_pred1 >= 0.3)\n",
    "auc_val = roc_auc_score(y_val, y_pred1)\n",
    "f1=f1_score(y_val, subscription_decision, average='binary')\n",
    "\n",
    "y_pred2 = model3.predict_proba(X_train)[:, 1]\n",
    "auc_train = roc_auc_score(y_train, y_pred2)\n",
    "\n",
    "\n",
    "print('auc_val= %.3f\\t f1= %.3f\\t auc_train=%.3f' %(auc_val, f1, auc_train))"
   ]
  },
  {
   "cell_type": "markdown",
   "id": "e0a41326",
   "metadata": {},
   "source": [
    "**Getting the best threshold for f1_score & seeing the presicion and recall value**"
   ]
  },
  {
   "cell_type": "code",
   "execution_count": 68,
   "id": "acf3e0e3",
   "metadata": {},
   "outputs": [
    {
     "data": {
      "text/html": [
       "<div>\n",
       "<style scoped>\n",
       "    .dataframe tbody tr th:only-of-type {\n",
       "        vertical-align: middle;\n",
       "    }\n",
       "\n",
       "    .dataframe tbody tr th {\n",
       "        vertical-align: top;\n",
       "    }\n",
       "\n",
       "    .dataframe thead th {\n",
       "        text-align: right;\n",
       "    }\n",
       "</style>\n",
       "<table border=\"1\" class=\"dataframe\">\n",
       "  <thead>\n",
       "    <tr style=\"text-align: right;\">\n",
       "      <th></th>\n",
       "      <th>threshold</th>\n",
       "      <th>tp</th>\n",
       "      <th>fp</th>\n",
       "      <th>fn</th>\n",
       "      <th>tn</th>\n",
       "    </tr>\n",
       "  </thead>\n",
       "  <tbody>\n",
       "    <tr>\n",
       "      <th>0</th>\n",
       "      <td>0.0</td>\n",
       "      <td>1050</td>\n",
       "      <td>7993</td>\n",
       "      <td>0</td>\n",
       "      <td>0</td>\n",
       "    </tr>\n",
       "    <tr>\n",
       "      <th>10</th>\n",
       "      <td>0.1</td>\n",
       "      <td>970</td>\n",
       "      <td>1608</td>\n",
       "      <td>80</td>\n",
       "      <td>6385</td>\n",
       "    </tr>\n",
       "    <tr>\n",
       "      <th>20</th>\n",
       "      <td>0.2</td>\n",
       "      <td>868</td>\n",
       "      <td>952</td>\n",
       "      <td>182</td>\n",
       "      <td>7041</td>\n",
       "    </tr>\n",
       "    <tr>\n",
       "      <th>30</th>\n",
       "      <td>0.3</td>\n",
       "      <td>756</td>\n",
       "      <td>652</td>\n",
       "      <td>294</td>\n",
       "      <td>7341</td>\n",
       "    </tr>\n",
       "    <tr>\n",
       "      <th>40</th>\n",
       "      <td>0.4</td>\n",
       "      <td>638</td>\n",
       "      <td>439</td>\n",
       "      <td>412</td>\n",
       "      <td>7554</td>\n",
       "    </tr>\n",
       "    <tr>\n",
       "      <th>50</th>\n",
       "      <td>0.5</td>\n",
       "      <td>476</td>\n",
       "      <td>263</td>\n",
       "      <td>574</td>\n",
       "      <td>7730</td>\n",
       "    </tr>\n",
       "    <tr>\n",
       "      <th>60</th>\n",
       "      <td>0.6</td>\n",
       "      <td>300</td>\n",
       "      <td>114</td>\n",
       "      <td>750</td>\n",
       "      <td>7879</td>\n",
       "    </tr>\n",
       "    <tr>\n",
       "      <th>70</th>\n",
       "      <td>0.7</td>\n",
       "      <td>173</td>\n",
       "      <td>50</td>\n",
       "      <td>877</td>\n",
       "      <td>7943</td>\n",
       "    </tr>\n",
       "    <tr>\n",
       "      <th>80</th>\n",
       "      <td>0.8</td>\n",
       "      <td>69</td>\n",
       "      <td>9</td>\n",
       "      <td>981</td>\n",
       "      <td>7984</td>\n",
       "    </tr>\n",
       "    <tr>\n",
       "      <th>90</th>\n",
       "      <td>0.9</td>\n",
       "      <td>2</td>\n",
       "      <td>1</td>\n",
       "      <td>1048</td>\n",
       "      <td>7992</td>\n",
       "    </tr>\n",
       "    <tr>\n",
       "      <th>100</th>\n",
       "      <td>1.0</td>\n",
       "      <td>0</td>\n",
       "      <td>0</td>\n",
       "      <td>1050</td>\n",
       "      <td>7993</td>\n",
       "    </tr>\n",
       "  </tbody>\n",
       "</table>\n",
       "</div>"
      ],
      "text/plain": [
       "     threshold    tp    fp    fn    tn\n",
       "0          0.0  1050  7993     0     0\n",
       "10         0.1   970  1608    80  6385\n",
       "20         0.2   868   952   182  7041\n",
       "30         0.3   756   652   294  7341\n",
       "40         0.4   638   439   412  7554\n",
       "50         0.5   476   263   574  7730\n",
       "60         0.6   300   114   750  7879\n",
       "70         0.7   173    50   877  7943\n",
       "80         0.8    69     9   981  7984\n",
       "90         0.9     2     1  1048  7992\n",
       "100        1.0     0     0  1050  7993"
      ]
     },
     "execution_count": 68,
     "metadata": {},
     "output_type": "execute_result"
    }
   ],
   "source": [
    "df_scores = confusion_matrix_dataframe(y_val, y_pred1)\n",
    "df_scores[::10]"
   ]
  },
  {
   "cell_type": "code",
   "execution_count": 69,
   "id": "8a8612c2",
   "metadata": {},
   "outputs": [
    {
     "data": {
      "image/png": "[encoded data removed]",
      "text/plain": [
       "<Figure size 432x288 with 1 Axes>"
      ]
     },
     "metadata": {
      "needs_background": "light"
     },
     "output_type": "display_data"
    }
   ],
   "source": [
    "df_scores['p'] = df_scores.tp / (df_scores.tp + df_scores.fp)\n",
    "df_scores['r'] = df_scores.tp / (df_scores.tp + df_scores.fn)\n",
    "\n",
    "plt.plot(df_scores.threshold, df_scores.p, label='precision')\n",
    "plt.plot(df_scores.threshold, df_scores.r, label='recall')\n",
    "\n",
    "plt.vlines(0.41, 0, 1, color='grey', linestyle='--', alpha=0.5)\n",
    "\n",
    "plt.legend()\n",
    "plt.show()"
   ]
  },
  {
   "cell_type": "code",
   "execution_count": 70,
   "id": "82e040af",
   "metadata": {},
   "outputs": [
    {
     "data": {
      "image/png": "[encoded data removed]",
      "text/plain": [
       "<Figure size 720x360 with 1 Axes>"
      ]
     },
     "metadata": {
      "needs_background": "light"
     },
     "output_type": "display_data"
    }
   ],
   "source": [
    "df_scores['f1'] = 2 * df_scores.p * df_scores.r / (df_scores.p + df_scores.r)\n",
    "\n",
    "plt.figure(figsize=(10, 5))\n",
    "plt.plot(df_scores.threshold, df_scores.f1)\n",
    "plt.vlines(0.3, 0, 0.7, color='grey', linestyle='--', alpha=0.5)\n",
    "\n",
    "plt.xticks(np.linspace(0, 1, 11))\n",
    "plt.show()"
   ]
  },
  {
   "cell_type": "markdown",
   "id": "bbd43e02",
   "metadata": {},
   "source": [
    "The best threshold to get the best f1_score is 0.3"
   ]
  },
  {
   "cell_type": "code",
   "execution_count": null,
   "id": "695bd913",
   "metadata": {},
   "outputs": [],
   "source": []
  },
  {
   "cell_type": "markdown",
   "id": "cc77e883",
   "metadata": {},
   "source": [
    "### 3.7 XGBoost model."
   ]
  },
  {
   "cell_type": "markdown",
   "id": "16a4c2f8",
   "metadata": {},
   "source": [
    "There are two ways to tune XGB model:\n",
    "1. simple line and automatic but it took too much time by using **GridSearchCV**\n",
    "2. manual and too long in code but it is faster (I done it in different notebook named Tuning_XGB_parameters.ipynb)"
   ]
  },
  {
   "cell_type": "code",
   "execution_count": 71,
   "id": "7ccdd661",
   "metadata": {},
   "outputs": [],
   "source": [
    "xgb_params = [{\n",
    "    'eta': [0.01,0.03,0.05,0.1,0.3], \n",
    "    'max_depth': [1,3,5,8,10,15,20],\n",
    "    'min_child_weight': [1,5,10,30],\n",
    "    'subsample': [0.5,1],\n",
    "    'colsample_bytree': [0.5,1],\n",
    "    \n",
    "    'objective': ['binary:logistic'],\n",
    "    'eval_metric': ['auc'],\n",
    "\n",
    "    'nthread': [8],\n",
    "    'seed': [1],\n",
    "    'verbosity': [1],\n",
    "}]"
   ]
  },
  {
   "cell_type": "code",
   "execution_count": 72,
   "id": "70945d1b",
   "metadata": {},
   "outputs": [],
   "source": [
    "gcv_xgb=GridSearchCV(xgb.XGBClassifier(), param_grid=xgb_params, scoring='roc_auc',n_jobs=-1)"
   ]
  },
  {
   "cell_type": "code",
   "execution_count": 73,
   "id": "e9114aea",
   "metadata": {},
   "outputs": [],
   "source": [
    "#gcv_xgb.fit(X_train, y_train)# this will take too much time to run but the output is written below.\n",
    "#I run it on kaggle with gpu to make it faster, you can see it from this notebook\n",
    "#https://www.kaggle.com/abdassalamahmad/bank-full"
   ]
  },
  {
   "cell_type": "markdown",
   "id": "6781885e",
   "metadata": {},
   "source": [
    "GridSearchCV(estimator=XGBClassifier(base_score=None, booster=None,<br>\n",
    "                                     colsample_bylevel=None,<br>\n",
    "                                     colsample_bynode=None,<br>\n",
    "                                     colsample_bytree=None,<br>\n",
    "                                     enable_categorical=False, gamma=None,<br>\n",
    "                                     gpu_id=None, importance_type=None,<br>\n",
    "                                     interaction_constraints=None,<br>\n",
    "                                     learning_rate=None, max_delta_step=None,<br>\n",
    "                                     max_depth=None, min_child_weight=None,<br>\n",
    "                                     missing=nan, monotone_constraints=None,<br>\n",
    "                                     n_est...<br>\n",
    "                                     subsample=None, tree_method=None,<br>\n",
    "                                     validate_parameters=None, verbosity=None),<br>\n",
    "             n_jobs=-1,<br>\n",
    "             param_grid=[{'colsample_bytree': [0.5, 1],<br>\n",
    "                          'eta': [0.01, 0.03, 0.05, 0.1, 0.3],<br>\n",
    "                          'eval_metric': ['auc'],<br>\n",
    "                          'max_depth': [1, 3, 5, 8, 10, 15, 20],<br>\n",
    "                          'min_child_weight': [1, 5, 10, 30], 'nthread': [8],<br>\n",
    "                          'objective': ['binary:logistic'], 'seed': [1],<br>\n",
    "                          'subsample': [0.5, 1], 'verbosity': [1]}],<br>\n",
    "             scoring='roc_auc')<br>"
   ]
  },
  {
   "cell_type": "code",
   "execution_count": 74,
   "id": "745fafd7",
   "metadata": {},
   "outputs": [],
   "source": [
    "#gcv_xgb.best_params_\n",
    "# this command will give you these best parameters"
   ]
  },
  {
   "cell_type": "markdown",
   "id": "0230c8ab",
   "metadata": {},
   "source": [
    "{'eta': 0.3,\n",
    " 'eval_metric': 'auc',\n",
    " 'max_depth': 3,\n",
    " 'min_child_weight': 5,\n",
    " 'nthread': 8,\n",
    " 'objective': 'binary:logistic',\n",
    " 'seed': 1,\n",
    " 'verbosity': 1}"
   ]
  },
  {
   "cell_type": "code",
   "execution_count": 75,
   "id": "c2fec35b",
   "metadata": {},
   "outputs": [],
   "source": [
    "def parse_xgb_output(output):#extract the output of XGB.train and put it in data frame\n",
    "    results = []\n",
    "\n",
    "    for line in output.stdout.strip().split('\\n'):\n",
    "        it_line, train_line, val_line = line.split('\\t')\n",
    "\n",
    "        it = int(it_line.strip('[]'))\n",
    "        train = float(train_line.split(':')[1])\n",
    "        val = float(val_line.split(':')[1])\n",
    "\n",
    "        results.append((it, train, val))\n",
    "    \n",
    "    columns = ['num_iter', 'train_auc', 'val_auc']\n",
    "    df_results = pd.DataFrame(results, columns=columns)\n",
    "    return df_results"
   ]
  },
  {
   "cell_type": "code",
   "execution_count": 76,
   "id": "bbec854c",
   "metadata": {},
   "outputs": [],
   "source": [
    "features = dv.get_feature_names()\n",
    "dtrain = xgb.DMatrix(X_train, label=y_train, feature_names=features)\n",
    "dval = xgb.DMatrix(X_val, label=y_val, feature_names=features)"
   ]
  },
  {
   "cell_type": "code",
   "execution_count": 77,
   "id": "40a0f7b1",
   "metadata": {},
   "outputs": [],
   "source": [
    "scores = {}\n",
    "watchlist = [(dtrain, 'train'), (dval, 'val')]"
   ]
  },
  {
   "cell_type": "markdown",
   "id": "9a18ff7d",
   "metadata": {},
   "source": [
    "### XGB model with the best parameters we got from the (GridSearchCV)."
   ]
  },
  {
   "cell_type": "code",
   "execution_count": 78,
   "id": "076bdb6e",
   "metadata": {},
   "outputs": [],
   "source": [
    "%%capture output\n",
    "xgb_params = {'eta': 0.3,\n",
    " 'max_depth': 3,\n",
    " 'min_child_weight': 5,\n",
    " \n",
    " 'objective': 'binary:logistic',\n",
    " 'eval_metric': 'auc',\n",
    " \n",
    " 'nthread': 8,\n",
    " 'seed': 1,\n",
    " 'verbosity': 1}\n",
    "\n",
    "best_XGB_model = xgb.train(xgb_params, dtrain, num_boost_round=400,\n",
    "                  verbose_eval=5,#verbose_eval is used to see what is going on with every 5 models trained\n",
    "                  evals=watchlist)"
   ]
  },
  {
   "cell_type": "code",
   "execution_count": 79,
   "id": "d30fd477",
   "metadata": {},
   "outputs": [
    {
     "data": {
      "text/plain": [
       "<matplotlib.legend.Legend at 0x1d6a30b2670>"
      ]
     },
     "execution_count": 79,
     "metadata": {},
     "output_type": "execute_result"
    },
    {
     "data": {
      "image/png": "[encoded data removed]",
      "text/plain": [
       "<Figure size 432x288 with 1 Axes>"
      ]
     },
     "metadata": {
      "needs_background": "light"
     },
     "output_type": "display_data"
    }
   ],
   "source": [
    "df_score = parse_xgb_output(output)\n",
    "\n",
    "plt.plot(df_score.num_iter, df_score.train_auc, label='train')\n",
    "plt.plot(df_score.num_iter, df_score.val_auc, label='val')\n",
    "plt.legend()"
   ]
  },
  {
   "cell_type": "code",
   "execution_count": 80,
   "id": "210b2a2a",
   "metadata": {},
   "outputs": [
    {
     "name": "stdout",
     "output_type": "stream",
     "text": [
      "auc_val = 0.9326\t, auc_train = 0.9639\n"
     ]
    }
   ],
   "source": [
    "y_pred1 = best_XGB_model.predict(dval)\n",
    "y_pred2 = best_XGB_model.predict(dtrain)\n",
    "\n",
    "auc1=roc_auc_score(y_val, y_pred1)\n",
    "auc2=roc_auc_score(y_train, y_pred2)\n",
    "#f1=f1_score(X_val, y_pred1, average='binary')\n",
    "#print ('f1= %.3f\\t auc_val = %.4f\\t, auc_train = %.4f' %(f1, auc1, auc2))\n",
    "print ('auc_val = %.4f\\t, auc_train = %.4f' %(auc1, auc2))"
   ]
  },
  {
   "cell_type": "code",
   "execution_count": 81,
   "id": "e699c187",
   "metadata": {},
   "outputs": [
    {
     "data": {
      "text/html": [
       "<div>\n",
       "<style scoped>\n",
       "    .dataframe tbody tr th:only-of-type {\n",
       "        vertical-align: middle;\n",
       "    }\n",
       "\n",
       "    .dataframe tbody tr th {\n",
       "        vertical-align: top;\n",
       "    }\n",
       "\n",
       "    .dataframe thead th {\n",
       "        text-align: right;\n",
       "    }\n",
       "</style>\n",
       "<table border=\"1\" class=\"dataframe\">\n",
       "  <thead>\n",
       "    <tr style=\"text-align: right;\">\n",
       "      <th></th>\n",
       "      <th>threshold</th>\n",
       "      <th>tp</th>\n",
       "      <th>fp</th>\n",
       "      <th>fn</th>\n",
       "      <th>tn</th>\n",
       "    </tr>\n",
       "  </thead>\n",
       "  <tbody>\n",
       "    <tr>\n",
       "      <th>0</th>\n",
       "      <td>0.0</td>\n",
       "      <td>1050</td>\n",
       "      <td>7993</td>\n",
       "      <td>0</td>\n",
       "      <td>0</td>\n",
       "    </tr>\n",
       "    <tr>\n",
       "      <th>10</th>\n",
       "      <td>0.1</td>\n",
       "      <td>949</td>\n",
       "      <td>1380</td>\n",
       "      <td>101</td>\n",
       "      <td>6613</td>\n",
       "    </tr>\n",
       "    <tr>\n",
       "      <th>20</th>\n",
       "      <td>0.2</td>\n",
       "      <td>858</td>\n",
       "      <td>871</td>\n",
       "      <td>192</td>\n",
       "      <td>7122</td>\n",
       "    </tr>\n",
       "    <tr>\n",
       "      <th>30</th>\n",
       "      <td>0.3</td>\n",
       "      <td>750</td>\n",
       "      <td>605</td>\n",
       "      <td>300</td>\n",
       "      <td>7388</td>\n",
       "    </tr>\n",
       "    <tr>\n",
       "      <th>40</th>\n",
       "      <td>0.4</td>\n",
       "      <td>640</td>\n",
       "      <td>428</td>\n",
       "      <td>410</td>\n",
       "      <td>7565</td>\n",
       "    </tr>\n",
       "    <tr>\n",
       "      <th>50</th>\n",
       "      <td>0.5</td>\n",
       "      <td>515</td>\n",
       "      <td>289</td>\n",
       "      <td>535</td>\n",
       "      <td>7704</td>\n",
       "    </tr>\n",
       "    <tr>\n",
       "      <th>60</th>\n",
       "      <td>0.6</td>\n",
       "      <td>396</td>\n",
       "      <td>191</td>\n",
       "      <td>654</td>\n",
       "      <td>7802</td>\n",
       "    </tr>\n",
       "    <tr>\n",
       "      <th>70</th>\n",
       "      <td>0.7</td>\n",
       "      <td>278</td>\n",
       "      <td>109</td>\n",
       "      <td>772</td>\n",
       "      <td>7884</td>\n",
       "    </tr>\n",
       "    <tr>\n",
       "      <th>80</th>\n",
       "      <td>0.8</td>\n",
       "      <td>183</td>\n",
       "      <td>63</td>\n",
       "      <td>867</td>\n",
       "      <td>7930</td>\n",
       "    </tr>\n",
       "    <tr>\n",
       "      <th>90</th>\n",
       "      <td>0.9</td>\n",
       "      <td>82</td>\n",
       "      <td>17</td>\n",
       "      <td>968</td>\n",
       "      <td>7976</td>\n",
       "    </tr>\n",
       "    <tr>\n",
       "      <th>100</th>\n",
       "      <td>1.0</td>\n",
       "      <td>0</td>\n",
       "      <td>0</td>\n",
       "      <td>1050</td>\n",
       "      <td>7993</td>\n",
       "    </tr>\n",
       "  </tbody>\n",
       "</table>\n",
       "</div>"
      ],
      "text/plain": [
       "     threshold    tp    fp    fn    tn\n",
       "0          0.0  1050  7993     0     0\n",
       "10         0.1   949  1380   101  6613\n",
       "20         0.2   858   871   192  7122\n",
       "30         0.3   750   605   300  7388\n",
       "40         0.4   640   428   410  7565\n",
       "50         0.5   515   289   535  7704\n",
       "60         0.6   396   191   654  7802\n",
       "70         0.7   278   109   772  7884\n",
       "80         0.8   183    63   867  7930\n",
       "90         0.9    82    17   968  7976\n",
       "100        1.0     0     0  1050  7993"
      ]
     },
     "execution_count": 81,
     "metadata": {},
     "output_type": "execute_result"
    }
   ],
   "source": [
    "df_scores = confusion_matrix_dataframe(y_val, y_pred1)\n",
    "df_scores[::10]"
   ]
  },
  {
   "cell_type": "markdown",
   "id": "e74adb49",
   "metadata": {},
   "source": [
    "This is the presicion and recall"
   ]
  },
  {
   "cell_type": "code",
   "execution_count": 82,
   "id": "ef6d8329",
   "metadata": {},
   "outputs": [
    {
     "data": {
      "image/png": "[encoded data removed]",
      "text/plain": [
       "<Figure size 432x288 with 1 Axes>"
      ]
     },
     "metadata": {
      "needs_background": "light"
     },
     "output_type": "display_data"
    }
   ],
   "source": [
    "df_scores['p'] = df_scores.tp / (df_scores.tp + df_scores.fp)\n",
    "df_scores['r'] = df_scores.tp / (df_scores.tp + df_scores.fn)\n",
    "\n",
    "plt.plot(df_scores.threshold, df_scores.p, label='precision')\n",
    "plt.plot(df_scores.threshold, df_scores.r, label='recall')\n",
    "\n",
    "plt.vlines(0.41, 0, 1, color='grey', linestyle='--', alpha=0.5)\n",
    "\n",
    "plt.legend()\n",
    "plt.show()"
   ]
  },
  {
   "cell_type": "markdown",
   "id": "4bef23a4",
   "metadata": {},
   "source": [
    "This is f1_score"
   ]
  },
  {
   "cell_type": "code",
   "execution_count": 83,
   "id": "df99381a",
   "metadata": {},
   "outputs": [
    {
     "data": {
      "image/png": "[encoded data removed]",
      "text/plain": [
       "<Figure size 720x360 with 1 Axes>"
      ]
     },
     "metadata": {
      "needs_background": "light"
     },
     "output_type": "display_data"
    }
   ],
   "source": [
    "df_scores['f1'] = 2 * df_scores.p * df_scores.r / (df_scores.p + df_scores.r)\n",
    "\n",
    "plt.figure(figsize=(10, 5))\n",
    "plt.plot(df_scores.threshold, df_scores.f1)\n",
    "plt.vlines(0.26, 0, 0.7, color='grey', linestyle='--', alpha=0.5)\n",
    "\n",
    "plt.xticks(np.linspace(0, 1, 11))\n",
    "plt.show()"
   ]
  },
  {
   "cell_type": "markdown",
   "id": "bb513e47",
   "metadata": {},
   "source": [
    "I preferred to choose the manual version of XGBoost that I tuned in (Tuning_XGB_parameters.ipynb), Because it is a little better than the GridSearchCV model.<br>\n",
    "\n"
   ]
  }
 ],
 "metadata": {
  "kernelspec": {
   "display_name": "Python 3",
   "language": "python",
   "name": "python3"
  },
  "language_info": {
   "codemirror_mode": {
    "name": "ipython",
    "version": 3
   },
   "file_extension": ".py",
   "mimetype": "text/x-python",
   "name": "python",
   "nbconvert_exporter": "python",
   "pygments_lexer": "ipython3",
   "version": "3.8.8"
  }
 },
 "nbformat": 4,
 "nbformat_minor": 5
}
